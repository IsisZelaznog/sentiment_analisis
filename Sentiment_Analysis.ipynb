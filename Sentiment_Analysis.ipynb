{
  "nbformat": 4,
  "nbformat_minor": 0,
  "metadata": {
    "colab": {
      "provenance": []
    },
    "kernelspec": {
      "name": "python3",
      "display_name": "Python 3"
    },
    "language_info": {
      "name": "python"
    }
  },
  "cells": [
    {
      "cell_type": "markdown",
      "source": [
        "## Preparación del entorno:\n",
        "\n",
        "Primero de todo vamos a exponer el tipo de datos de los que disponemos. Directamente extraidos de la API de Twitter en tiempo real. Entonces, disponemos de un dataset inicial de 1000 tweets, pero que para el modelado se utilizará uno subset de 300 tweets.\n",
        "\n",
        "En el futuro se pretende disponer del dataset entero para modelar."
      ],
      "metadata": {
        "id": "fcheq2sQEaC-"
      }
    },
    {
      "cell_type": "code",
      "execution_count": null,
      "metadata": {
        "id": "kuACtlp4GOhl"
      },
      "outputs": [],
      "source": [
        "#básicos\n",
        "import pandas as pd\n",
        "import numpy as np\n",
        "import re\n",
        "\n",
        "#graficar\n",
        "import seaborn as sns\n",
        "from wordcloud import WordCloud, STOPWORDS, ImageColorGenerator\n",
        "import matplotlib.pyplot as plt\n",
        "import plotly.express as px"
      ]
    },
    {
      "cell_type": "code",
      "source": [
        "df=pd.read_csv(\"tweets.csv\")"
      ],
      "metadata": {
        "id": "pDydr4VqGP5N"
      },
      "execution_count": null,
      "outputs": []
    },
    {
      "cell_type": "code",
      "source": [
        "df.head()"
      ],
      "metadata": {
        "id": "680JJw7NGiJK",
        "outputId": "08eb55d7-0921-495f-ec7a-db012aba9ab3",
        "colab": {
          "base_uri": "https://localhost:8080/",
          "height": 337
        }
      },
      "execution_count": null,
      "outputs": [
        {
          "output_type": "execute_result",
          "data": {
            "text/plain": [
              "               User_id                 Created_at  \\\n",
              "0            168944802  2022-10-27 20:34:52+00:00   \n",
              "1            300846601  2022-10-27 20:34:56+00:00   \n",
              "2  1507966012280483844  2022-10-27 20:35:00+00:00   \n",
              "3  1259882834329767936  2022-10-27 20:35:01+00:00   \n",
              "4            300241484  2022-10-27 20:35:04+00:00   \n",
              "\n",
              "                                                                                                                                                                                                                                                                                     Text  \\\n",
              "0                                                                                                                                                                                             @mhmck Speaking of Good versus Evil. May the Force be with Ukraine. https://t.co/sv7h6tkqnl   \n",
              "1  German Chancellor spoke to Rishi Sunak on phone today. In a read out we’re told they discussed the war in Ukraine, agreed continued support for Ukraine and continued pressure on Russia to end hostilities. Olaf Scholz encouraged his counterpart to work constructively with the EU   \n",
              "2      #star_wars Russia's representative to the #UN, Konstantin #Vorontsov, called commercial satellites of the #US and its allies \"legitimate targets\". According to him, Russia is ready to strike at them if they are used in #Ukraine #War_in_Ukraine #space https://t.co/3fodhZYizo   \n",
              "3                                                                                                                                                            be interesting to see if Biden's Ukraine proxy war has an effect on the vote https://t.co/rvL2oTr1Yq https://t.co/M4P0VXsHu1   \n",
              "4                                                                                                                                                                                                                       The western double standard has no limit. https://t.co/HGC8NBUA8X   \n",
              "\n",
              "   Count  \n",
              "0      0  \n",
              "1      1  \n",
              "2      2  \n",
              "3      3  \n",
              "4      4  "
            ],
            "text/html": [
              "\n",
              "  <div id=\"df-3c272f79-85a8-4c58-bafc-3fee248356dd\">\n",
              "    <div class=\"colab-df-container\">\n",
              "      <div>\n",
              "<style scoped>\n",
              "    .dataframe tbody tr th:only-of-type {\n",
              "        vertical-align: middle;\n",
              "    }\n",
              "\n",
              "    .dataframe tbody tr th {\n",
              "        vertical-align: top;\n",
              "    }\n",
              "\n",
              "    .dataframe thead th {\n",
              "        text-align: right;\n",
              "    }\n",
              "</style>\n",
              "<table border=\"1\" class=\"dataframe\">\n",
              "  <thead>\n",
              "    <tr style=\"text-align: right;\">\n",
              "      <th></th>\n",
              "      <th>User_id</th>\n",
              "      <th>Created_at</th>\n",
              "      <th>Text</th>\n",
              "      <th>Count</th>\n",
              "    </tr>\n",
              "  </thead>\n",
              "  <tbody>\n",
              "    <tr>\n",
              "      <th>0</th>\n",
              "      <td>168944802</td>\n",
              "      <td>2022-10-27 20:34:52+00:00</td>\n",
              "      <td>@mhmck Speaking of Good versus Evil. May the Force be with Ukraine. https://t.co/sv7h6tkqnl</td>\n",
              "      <td>0</td>\n",
              "    </tr>\n",
              "    <tr>\n",
              "      <th>1</th>\n",
              "      <td>300846601</td>\n",
              "      <td>2022-10-27 20:34:56+00:00</td>\n",
              "      <td>German Chancellor spoke to Rishi Sunak on phone today. In a read out we’re told they discussed the war in Ukraine, agreed continued support for Ukraine and continued pressure on Russia to end hostilities. Olaf Scholz encouraged his counterpart to work constructively with the EU</td>\n",
              "      <td>1</td>\n",
              "    </tr>\n",
              "    <tr>\n",
              "      <th>2</th>\n",
              "      <td>1507966012280483844</td>\n",
              "      <td>2022-10-27 20:35:00+00:00</td>\n",
              "      <td>#star_wars Russia's representative to the #UN, Konstantin #Vorontsov, called commercial satellites of the #US and its allies \"legitimate targets\". According to him, Russia is ready to strike at them if they are used in #Ukraine #War_in_Ukraine #space https://t.co/3fodhZYizo</td>\n",
              "      <td>2</td>\n",
              "    </tr>\n",
              "    <tr>\n",
              "      <th>3</th>\n",
              "      <td>1259882834329767936</td>\n",
              "      <td>2022-10-27 20:35:01+00:00</td>\n",
              "      <td>be interesting to see if Biden's Ukraine proxy war has an effect on the vote https://t.co/rvL2oTr1Yq https://t.co/M4P0VXsHu1</td>\n",
              "      <td>3</td>\n",
              "    </tr>\n",
              "    <tr>\n",
              "      <th>4</th>\n",
              "      <td>300241484</td>\n",
              "      <td>2022-10-27 20:35:04+00:00</td>\n",
              "      <td>The western double standard has no limit. https://t.co/HGC8NBUA8X</td>\n",
              "      <td>4</td>\n",
              "    </tr>\n",
              "  </tbody>\n",
              "</table>\n",
              "</div>\n",
              "      <button class=\"colab-df-convert\" onclick=\"convertToInteractive('df-3c272f79-85a8-4c58-bafc-3fee248356dd')\"\n",
              "              title=\"Convert this dataframe to an interactive table.\"\n",
              "              style=\"display:none;\">\n",
              "        \n",
              "  <svg xmlns=\"http://www.w3.org/2000/svg\" height=\"24px\"viewBox=\"0 0 24 24\"\n",
              "       width=\"24px\">\n",
              "    <path d=\"M0 0h24v24H0V0z\" fill=\"none\"/>\n",
              "    <path d=\"M18.56 5.44l.94 2.06.94-2.06 2.06-.94-2.06-.94-.94-2.06-.94 2.06-2.06.94zm-11 1L8.5 8.5l.94-2.06 2.06-.94-2.06-.94L8.5 2.5l-.94 2.06-2.06.94zm10 10l.94 2.06.94-2.06 2.06-.94-2.06-.94-.94-2.06-.94 2.06-2.06.94z\"/><path d=\"M17.41 7.96l-1.37-1.37c-.4-.4-.92-.59-1.43-.59-.52 0-1.04.2-1.43.59L10.3 9.45l-7.72 7.72c-.78.78-.78 2.05 0 2.83L4 21.41c.39.39.9.59 1.41.59.51 0 1.02-.2 1.41-.59l7.78-7.78 2.81-2.81c.8-.78.8-2.07 0-2.86zM5.41 20L4 18.59l7.72-7.72 1.47 1.35L5.41 20z\"/>\n",
              "  </svg>\n",
              "      </button>\n",
              "      \n",
              "  <style>\n",
              "    .colab-df-container {\n",
              "      display:flex;\n",
              "      flex-wrap:wrap;\n",
              "      gap: 12px;\n",
              "    }\n",
              "\n",
              "    .colab-df-convert {\n",
              "      background-color: #E8F0FE;\n",
              "      border: none;\n",
              "      border-radius: 50%;\n",
              "      cursor: pointer;\n",
              "      display: none;\n",
              "      fill: #1967D2;\n",
              "      height: 32px;\n",
              "      padding: 0 0 0 0;\n",
              "      width: 32px;\n",
              "    }\n",
              "\n",
              "    .colab-df-convert:hover {\n",
              "      background-color: #E2EBFA;\n",
              "      box-shadow: 0px 1px 2px rgba(60, 64, 67, 0.3), 0px 1px 3px 1px rgba(60, 64, 67, 0.15);\n",
              "      fill: #174EA6;\n",
              "    }\n",
              "\n",
              "    [theme=dark] .colab-df-convert {\n",
              "      background-color: #3B4455;\n",
              "      fill: #D2E3FC;\n",
              "    }\n",
              "\n",
              "    [theme=dark] .colab-df-convert:hover {\n",
              "      background-color: #434B5C;\n",
              "      box-shadow: 0px 1px 3px 1px rgba(0, 0, 0, 0.15);\n",
              "      filter: drop-shadow(0px 1px 2px rgba(0, 0, 0, 0.3));\n",
              "      fill: #FFFFFF;\n",
              "    }\n",
              "  </style>\n",
              "\n",
              "      <script>\n",
              "        const buttonEl =\n",
              "          document.querySelector('#df-3c272f79-85a8-4c58-bafc-3fee248356dd button.colab-df-convert');\n",
              "        buttonEl.style.display =\n",
              "          google.colab.kernel.accessAllowed ? 'block' : 'none';\n",
              "\n",
              "        async function convertToInteractive(key) {\n",
              "          const element = document.querySelector('#df-3c272f79-85a8-4c58-bafc-3fee248356dd');\n",
              "          const dataTable =\n",
              "            await google.colab.kernel.invokeFunction('convertToInteractive',\n",
              "                                                     [key], {});\n",
              "          if (!dataTable) return;\n",
              "\n",
              "          const docLinkHtml = 'Like what you see? Visit the ' +\n",
              "            '<a target=\"_blank\" href=https://colab.research.google.com/notebooks/data_table.ipynb>data table notebook</a>'\n",
              "            + ' to learn more about interactive tables.';\n",
              "          element.innerHTML = '';\n",
              "          dataTable['output_type'] = 'display_data';\n",
              "          await google.colab.output.renderOutput(dataTable, element);\n",
              "          const docLink = document.createElement('div');\n",
              "          docLink.innerHTML = docLinkHtml;\n",
              "          element.appendChild(docLink);\n",
              "        }\n",
              "      </script>\n",
              "    </div>\n",
              "  </div>\n",
              "  "
            ]
          },
          "metadata": {},
          "execution_count": 861
        }
      ]
    },
    {
      "cell_type": "code",
      "source": [
        "df.info()"
      ],
      "metadata": {
        "colab": {
          "base_uri": "https://localhost:8080/"
        },
        "id": "qpg7VdTTXQp8",
        "outputId": "78fcd699-9065-4be7-be63-2af68b9ace2e"
      },
      "execution_count": null,
      "outputs": [
        {
          "output_type": "stream",
          "name": "stdout",
          "text": [
            "<class 'pandas.core.frame.DataFrame'>\n",
            "RangeIndex: 1000 entries, 0 to 999\n",
            "Data columns (total 4 columns):\n",
            " #   Column      Non-Null Count  Dtype \n",
            "---  ------      --------------  ----- \n",
            " 0   User_id     1000 non-null   int64 \n",
            " 1   Created_at  1000 non-null   object\n",
            " 2   Text        1000 non-null   object\n",
            " 3   Count       1000 non-null   int64 \n",
            "dtypes: int64(2), object(2)\n",
            "memory usage: 31.4+ KB\n"
          ]
        }
      ]
    },
    {
      "cell_type": "markdown",
      "source": [
        "Limpiamos el texto:\n",
        "\n",
        "*   Eliminamos links\n",
        "*   Eliminamos menciones a otros perfiles de Twitter\n",
        "*   Eliminamos carácteres que no sean de codificación ASCII\n",
        "*   Eliminamos caracteres multilinea\n",
        "*   Eliminamos símbolo \"#\" que denota un *hashtag* (esto se llevará a cabo mas adelante)\n",
        "*   Otros carácteres de escape y signos de puntuación (también realizado esto más adelante)\n",
        "\n",
        "\n",
        "\n",
        "\n",
        "\n"
      ],
      "metadata": {
        "id": "hN0cn0-mQzB-"
      }
    },
    {
      "cell_type": "code",
      "source": [
        "df['Text'] = df['Text'].replace(r'http\\S+', '', regex=True).replace(r'www\\S+', '', regex=True)\n",
        "df['Text'] = df['Text'].str.replace(r'\\s*@\\w+', '', regex=True)\n",
        "df['Text'] = df['Text'].str.replace(r'\\s*\\B@\\w+', '', regex=True)\n",
        "df['Text'] = df['Text'].str.replace(r'\\s*@\\S+', '', regex=True)\n",
        "df['Text'] = df['Text'].str.replace(r'\\s*@\\S+\\b', '', regex=True)\n",
        "df.Text.replace({r'[^\\x00-\\x7F]+':''}, regex=True, inplace=True)\n",
        "df['Text'] = df['Text'].apply(lambda x : str(x).replace('\\\\n', ',').replace('\\\\', '').replace(\"'\", \"\").replace(\"\\n\",\" \"))"
      ],
      "metadata": {
        "id": "jaWxOteko6rN"
      },
      "execution_count": null,
      "outputs": []
    },
    {
      "cell_type": "code",
      "source": [
        "df.head()"
      ],
      "metadata": {
        "colab": {
          "base_uri": "https://localhost:8080/",
          "height": 337
        },
        "id": "mKFHiBkxgX6j",
        "outputId": "50a0542d-6247-40db-c80f-8636a9e2f64d"
      },
      "execution_count": null,
      "outputs": [
        {
          "output_type": "execute_result",
          "data": {
            "text/plain": [
              "               User_id                 Created_at  \\\n",
              "0            168944802  2022-10-27 20:34:52+00:00   \n",
              "1            300846601  2022-10-27 20:34:56+00:00   \n",
              "2  1507966012280483844  2022-10-27 20:35:00+00:00   \n",
              "3  1259882834329767936  2022-10-27 20:35:01+00:00   \n",
              "4            300241484  2022-10-27 20:35:04+00:00   \n",
              "\n",
              "                                                                                                                                                                                                                                                                                    Text  \\\n",
              "0                                                                                                                                                                                                                          Speaking of Good versus Evil. May the Force be with Ukraine.    \n",
              "1  German Chancellor spoke to Rishi Sunak on phone today. In a read out were told they discussed the war in Ukraine, agreed continued support for Ukraine and continued pressure on Russia to end hostilities. Olaf Scholz encouraged his counterpart to work constructively with the EU   \n",
              "2                             #star_wars Russias representative to the #UN, Konstantin #Vorontsov, called commercial satellites of the #US and its allies \"legitimate targets\". According to him, Russia is ready to strike at them if they are used in #Ukraine #War_in_Ukraine #space    \n",
              "3                                                                                                                                                                                                          be interesting to see if Bidens Ukraine proxy war has an effect on the vote     \n",
              "4                                                                                                                                                                                                                                             The western double standard has no limit.    \n",
              "\n",
              "   Count  \n",
              "0      0  \n",
              "1      1  \n",
              "2      2  \n",
              "3      3  \n",
              "4      4  "
            ],
            "text/html": [
              "\n",
              "  <div id=\"df-6edc60c3-912d-4077-81d3-a4d20e70faf4\">\n",
              "    <div class=\"colab-df-container\">\n",
              "      <div>\n",
              "<style scoped>\n",
              "    .dataframe tbody tr th:only-of-type {\n",
              "        vertical-align: middle;\n",
              "    }\n",
              "\n",
              "    .dataframe tbody tr th {\n",
              "        vertical-align: top;\n",
              "    }\n",
              "\n",
              "    .dataframe thead th {\n",
              "        text-align: right;\n",
              "    }\n",
              "</style>\n",
              "<table border=\"1\" class=\"dataframe\">\n",
              "  <thead>\n",
              "    <tr style=\"text-align: right;\">\n",
              "      <th></th>\n",
              "      <th>User_id</th>\n",
              "      <th>Created_at</th>\n",
              "      <th>Text</th>\n",
              "      <th>Count</th>\n",
              "    </tr>\n",
              "  </thead>\n",
              "  <tbody>\n",
              "    <tr>\n",
              "      <th>0</th>\n",
              "      <td>168944802</td>\n",
              "      <td>2022-10-27 20:34:52+00:00</td>\n",
              "      <td>Speaking of Good versus Evil. May the Force be with Ukraine.</td>\n",
              "      <td>0</td>\n",
              "    </tr>\n",
              "    <tr>\n",
              "      <th>1</th>\n",
              "      <td>300846601</td>\n",
              "      <td>2022-10-27 20:34:56+00:00</td>\n",
              "      <td>German Chancellor spoke to Rishi Sunak on phone today. In a read out were told they discussed the war in Ukraine, agreed continued support for Ukraine and continued pressure on Russia to end hostilities. Olaf Scholz encouraged his counterpart to work constructively with the EU</td>\n",
              "      <td>1</td>\n",
              "    </tr>\n",
              "    <tr>\n",
              "      <th>2</th>\n",
              "      <td>1507966012280483844</td>\n",
              "      <td>2022-10-27 20:35:00+00:00</td>\n",
              "      <td>#star_wars Russias representative to the #UN, Konstantin #Vorontsov, called commercial satellites of the #US and its allies \"legitimate targets\". According to him, Russia is ready to strike at them if they are used in #Ukraine #War_in_Ukraine #space</td>\n",
              "      <td>2</td>\n",
              "    </tr>\n",
              "    <tr>\n",
              "      <th>3</th>\n",
              "      <td>1259882834329767936</td>\n",
              "      <td>2022-10-27 20:35:01+00:00</td>\n",
              "      <td>be interesting to see if Bidens Ukraine proxy war has an effect on the vote</td>\n",
              "      <td>3</td>\n",
              "    </tr>\n",
              "    <tr>\n",
              "      <th>4</th>\n",
              "      <td>300241484</td>\n",
              "      <td>2022-10-27 20:35:04+00:00</td>\n",
              "      <td>The western double standard has no limit.</td>\n",
              "      <td>4</td>\n",
              "    </tr>\n",
              "  </tbody>\n",
              "</table>\n",
              "</div>\n",
              "      <button class=\"colab-df-convert\" onclick=\"convertToInteractive('df-6edc60c3-912d-4077-81d3-a4d20e70faf4')\"\n",
              "              title=\"Convert this dataframe to an interactive table.\"\n",
              "              style=\"display:none;\">\n",
              "        \n",
              "  <svg xmlns=\"http://www.w3.org/2000/svg\" height=\"24px\"viewBox=\"0 0 24 24\"\n",
              "       width=\"24px\">\n",
              "    <path d=\"M0 0h24v24H0V0z\" fill=\"none\"/>\n",
              "    <path d=\"M18.56 5.44l.94 2.06.94-2.06 2.06-.94-2.06-.94-.94-2.06-.94 2.06-2.06.94zm-11 1L8.5 8.5l.94-2.06 2.06-.94-2.06-.94L8.5 2.5l-.94 2.06-2.06.94zm10 10l.94 2.06.94-2.06 2.06-.94-2.06-.94-.94-2.06-.94 2.06-2.06.94z\"/><path d=\"M17.41 7.96l-1.37-1.37c-.4-.4-.92-.59-1.43-.59-.52 0-1.04.2-1.43.59L10.3 9.45l-7.72 7.72c-.78.78-.78 2.05 0 2.83L4 21.41c.39.39.9.59 1.41.59.51 0 1.02-.2 1.41-.59l7.78-7.78 2.81-2.81c.8-.78.8-2.07 0-2.86zM5.41 20L4 18.59l7.72-7.72 1.47 1.35L5.41 20z\"/>\n",
              "  </svg>\n",
              "      </button>\n",
              "      \n",
              "  <style>\n",
              "    .colab-df-container {\n",
              "      display:flex;\n",
              "      flex-wrap:wrap;\n",
              "      gap: 12px;\n",
              "    }\n",
              "\n",
              "    .colab-df-convert {\n",
              "      background-color: #E8F0FE;\n",
              "      border: none;\n",
              "      border-radius: 50%;\n",
              "      cursor: pointer;\n",
              "      display: none;\n",
              "      fill: #1967D2;\n",
              "      height: 32px;\n",
              "      padding: 0 0 0 0;\n",
              "      width: 32px;\n",
              "    }\n",
              "\n",
              "    .colab-df-convert:hover {\n",
              "      background-color: #E2EBFA;\n",
              "      box-shadow: 0px 1px 2px rgba(60, 64, 67, 0.3), 0px 1px 3px 1px rgba(60, 64, 67, 0.15);\n",
              "      fill: #174EA6;\n",
              "    }\n",
              "\n",
              "    [theme=dark] .colab-df-convert {\n",
              "      background-color: #3B4455;\n",
              "      fill: #D2E3FC;\n",
              "    }\n",
              "\n",
              "    [theme=dark] .colab-df-convert:hover {\n",
              "      background-color: #434B5C;\n",
              "      box-shadow: 0px 1px 3px 1px rgba(0, 0, 0, 0.15);\n",
              "      filter: drop-shadow(0px 1px 2px rgba(0, 0, 0, 0.3));\n",
              "      fill: #FFFFFF;\n",
              "    }\n",
              "  </style>\n",
              "\n",
              "      <script>\n",
              "        const buttonEl =\n",
              "          document.querySelector('#df-6edc60c3-912d-4077-81d3-a4d20e70faf4 button.colab-df-convert');\n",
              "        buttonEl.style.display =\n",
              "          google.colab.kernel.accessAllowed ? 'block' : 'none';\n",
              "\n",
              "        async function convertToInteractive(key) {\n",
              "          const element = document.querySelector('#df-6edc60c3-912d-4077-81d3-a4d20e70faf4');\n",
              "          const dataTable =\n",
              "            await google.colab.kernel.invokeFunction('convertToInteractive',\n",
              "                                                     [key], {});\n",
              "          if (!dataTable) return;\n",
              "\n",
              "          const docLinkHtml = 'Like what you see? Visit the ' +\n",
              "            '<a target=\"_blank\" href=https://colab.research.google.com/notebooks/data_table.ipynb>data table notebook</a>'\n",
              "            + ' to learn more about interactive tables.';\n",
              "          element.innerHTML = '';\n",
              "          dataTable['output_type'] = 'display_data';\n",
              "          await google.colab.output.renderOutput(dataTable, element);\n",
              "          const docLink = document.createElement('div');\n",
              "          docLink.innerHTML = docLinkHtml;\n",
              "          element.appendChild(docLink);\n",
              "        }\n",
              "      </script>\n",
              "    </div>\n",
              "  </div>\n",
              "  "
            ]
          },
          "metadata": {},
          "execution_count": 864
        }
      ]
    },
    {
      "cell_type": "markdown",
      "source": [
        "Nube de palabras mas frecuentes con STOPWORDS, el cual es importado de la libreria *WordCloud*"
      ],
      "metadata": {
        "id": "aEYoYH0MYGpl"
      }
    },
    {
      "cell_type": "code",
      "source": [
        "stopwords_set = set(STOPWORDS)\n",
        "wordcloud = WordCloud(background_color='white',\n",
        "                     stopwords = stopwords_set,\n",
        "                      max_words = 300,\n",
        "                      max_font_size = 40,\n",
        "                      scale = 2,\n",
        "                      random_state=42\n",
        "                     ).generate(str(df['Text']))\n",
        "\n",
        "print(wordcloud)\n",
        "plt.imshow(wordcloud)\n",
        "plt.axis('off')\n",
        "plt.show()"
      ],
      "metadata": {
        "colab": {
          "base_uri": "https://localhost:8080/",
          "height": 374
        },
        "id": "nsQ4CGEwX62e",
        "outputId": "673f8c70-6372-4b55-82bd-820a2edb3126"
      },
      "execution_count": null,
      "outputs": [
        {
          "output_type": "stream",
          "name": "stdout",
          "text": [
            "<wordcloud.wordcloud.WordCloud object at 0x7f7a440218d0>\n"
          ]
        },
        {
          "output_type": "display_data",
          "data": {
            "text/plain": [
              "<Figure size 1440x432 with 1 Axes>"
            ],
            "image/png": "[encoded data removed]"
          },
          "metadata": {
            "needs_background": "light"
          }
        }
      ]
    },
    {
      "cell_type": "markdown",
      "source": [
        "##Hashtags Analysis"
      ],
      "metadata": {
        "id": "zeI1pC_aaWlP"
      }
    },
    {
      "cell_type": "code",
      "source": [
        "def find_hashtags(string):\n",
        "    hashtags = [x for x in string if x.startswith('#')]\n",
        "    \n",
        "    return hashtags\n",
        "\n",
        "df['split'] = df['Text'].str.split(' ')\n",
        "df['hashtags'] = df['split'].apply(lambda row : find_hashtags(row))"
      ],
      "metadata": {
        "id": "OgSFkvgbZnQS"
      },
      "execution_count": null,
      "outputs": []
    },
    {
      "cell_type": "code",
      "source": [
        "df['hashtags']"
      ],
      "metadata": {
        "colab": {
          "base_uri": "https://localhost:8080/"
        },
        "id": "ngSFIc78aJxp",
        "outputId": "ac770edb-4a61-4ff7-f0c3-3d33cbcc6e54"
      },
      "execution_count": null,
      "outputs": [
        {
          "output_type": "execute_result",
          "data": {
            "text/plain": [
              "0                                                                           []\n",
              "1                                                                           []\n",
              "2      [#star_wars, #UN,, #Vorontsov,, #US, #Ukraine, #War_in_Ukraine, #space]\n",
              "3                                                                           []\n",
              "4                                                                           []\n",
              "                                        ...                                   \n",
              "995                                                                         []\n",
              "996                                                                         []\n",
              "997                                                                         []\n",
              "998                                                                         []\n",
              "999                                                                         []\n",
              "Name: hashtags, Length: 1000, dtype: object"
            ]
          },
          "metadata": {},
          "execution_count": 867
        }
      ]
    },
    {
      "cell_type": "code",
      "source": [
        "hashtag_expl=[]\n",
        "for hashtagsList in df[\"hashtags\"]:\n",
        "    for hashtag in hashtagsList:\n",
        "        hashtag_expl.append(hashtag)"
      ],
      "metadata": {
        "id": "2RIKjti1a4Zv"
      },
      "execution_count": null,
      "outputs": []
    },
    {
      "cell_type": "code",
      "source": [
        "topXItem = 25\n",
        "from collections import Counter\n",
        "\n",
        "x = Counter(hashtag_expl)\n",
        "\n",
        "topXItemList = x.most_common(topXItem)"
      ],
      "metadata": {
        "id": "vLnV4hbybwPg"
      },
      "execution_count": null,
      "outputs": []
    },
    {
      "cell_type": "markdown",
      "source": [
        "Vemos que los principales hashtags del dataset no nos dicen mucho sobre el sentimiento del tweet en general, a excepción de los últimos. Lo único que podemos comprobar es que los tweets estan en mayor o menor medida centrados en nuestro tema de estudio."
      ],
      "metadata": {
        "id": "_-jb0DeqFJF5"
      }
    },
    {
      "cell_type": "code",
      "source": [
        "df_hash = pd.DataFrame(topXItemList)\n",
        "df_hash.columns =['Hashtag','Tweets']\n",
        "df_hash"
      ],
      "metadata": {
        "colab": {
          "base_uri": "https://localhost:8080/",
          "height": 833
        },
        "id": "RF4nqHkDb7xF",
        "outputId": "73ef6c6f-4ce3-4e9a-be67-553d676a411d"
      },
      "execution_count": null,
      "outputs": [
        {
          "output_type": "execute_result",
          "data": {
            "text/plain": [
              "                     Hashtag  Tweets\n",
              "0                   #Ukraine      92\n",
              "1                    #Russia      51\n",
              "2                #UkraineWar      30\n",
              "3                       #war      26\n",
              "4          #UkraineRussiaWar      23\n",
              "5                      #news      20\n",
              "6                          #      19\n",
              "7                     #Putin      18\n",
              "8                      #NATO      12\n",
              "9                   #Russian      10\n",
              "10         #StandWithUkraine       9\n",
              "11                 #Ukraine.       8\n",
              "12      #RussianUkrainianWar       6\n",
              "13                  #ukraine       6\n",
              "14                  #Kherson       6\n",
              "15                      #USA       6\n",
              "16                      #War       6\n",
              "17                   #russia       6\n",
              "18   #russiaisaterrorisstate       5\n",
              "19  #RussiaIsATerroristState       5\n",
              "20         #PutinWarCriminal       5\n",
              "21                      #FJB       5\n",
              "22         #RussiaUkraineWar       5\n",
              "23             #SlavaUkraini       5\n",
              "24                #StopPutin       5"
            ],
            "text/html": [
              "\n",
              "  <div id=\"df-3c819888-d384-40ee-95c6-b3399b685cf8\">\n",
              "    <div class=\"colab-df-container\">\n",
              "      <div>\n",
              "<style scoped>\n",
              "    .dataframe tbody tr th:only-of-type {\n",
              "        vertical-align: middle;\n",
              "    }\n",
              "\n",
              "    .dataframe tbody tr th {\n",
              "        vertical-align: top;\n",
              "    }\n",
              "\n",
              "    .dataframe thead th {\n",
              "        text-align: right;\n",
              "    }\n",
              "</style>\n",
              "<table border=\"1\" class=\"dataframe\">\n",
              "  <thead>\n",
              "    <tr style=\"text-align: right;\">\n",
              "      <th></th>\n",
              "      <th>Hashtag</th>\n",
              "      <th>Tweets</th>\n",
              "    </tr>\n",
              "  </thead>\n",
              "  <tbody>\n",
              "    <tr>\n",
              "      <th>0</th>\n",
              "      <td>#Ukraine</td>\n",
              "      <td>92</td>\n",
              "    </tr>\n",
              "    <tr>\n",
              "      <th>1</th>\n",
              "      <td>#Russia</td>\n",
              "      <td>51</td>\n",
              "    </tr>\n",
              "    <tr>\n",
              "      <th>2</th>\n",
              "      <td>#UkraineWar</td>\n",
              "      <td>30</td>\n",
              "    </tr>\n",
              "    <tr>\n",
              "      <th>3</th>\n",
              "      <td>#war</td>\n",
              "      <td>26</td>\n",
              "    </tr>\n",
              "    <tr>\n",
              "      <th>4</th>\n",
              "      <td>#UkraineRussiaWar</td>\n",
              "      <td>23</td>\n",
              "    </tr>\n",
              "    <tr>\n",
              "      <th>5</th>\n",
              "      <td>#news</td>\n",
              "      <td>20</td>\n",
              "    </tr>\n",
              "    <tr>\n",
              "      <th>6</th>\n",
              "      <td>#</td>\n",
              "      <td>19</td>\n",
              "    </tr>\n",
              "    <tr>\n",
              "      <th>7</th>\n",
              "      <td>#Putin</td>\n",
              "      <td>18</td>\n",
              "    </tr>\n",
              "    <tr>\n",
              "      <th>8</th>\n",
              "      <td>#NATO</td>\n",
              "      <td>12</td>\n",
              "    </tr>\n",
              "    <tr>\n",
              "      <th>9</th>\n",
              "      <td>#Russian</td>\n",
              "      <td>10</td>\n",
              "    </tr>\n",
              "    <tr>\n",
              "      <th>10</th>\n",
              "      <td>#StandWithUkraine</td>\n",
              "      <td>9</td>\n",
              "    </tr>\n",
              "    <tr>\n",
              "      <th>11</th>\n",
              "      <td>#Ukraine.</td>\n",
              "      <td>8</td>\n",
              "    </tr>\n",
              "    <tr>\n",
              "      <th>12</th>\n",
              "      <td>#RussianUkrainianWar</td>\n",
              "      <td>6</td>\n",
              "    </tr>\n",
              "    <tr>\n",
              "      <th>13</th>\n",
              "      <td>#ukraine</td>\n",
              "      <td>6</td>\n",
              "    </tr>\n",
              "    <tr>\n",
              "      <th>14</th>\n",
              "      <td>#Kherson</td>\n",
              "      <td>6</td>\n",
              "    </tr>\n",
              "    <tr>\n",
              "      <th>15</th>\n",
              "      <td>#USA</td>\n",
              "      <td>6</td>\n",
              "    </tr>\n",
              "    <tr>\n",
              "      <th>16</th>\n",
              "      <td>#War</td>\n",
              "      <td>6</td>\n",
              "    </tr>\n",
              "    <tr>\n",
              "      <th>17</th>\n",
              "      <td>#russia</td>\n",
              "      <td>6</td>\n",
              "    </tr>\n",
              "    <tr>\n",
              "      <th>18</th>\n",
              "      <td>#russiaisaterrorisstate</td>\n",
              "      <td>5</td>\n",
              "    </tr>\n",
              "    <tr>\n",
              "      <th>19</th>\n",
              "      <td>#RussiaIsATerroristState</td>\n",
              "      <td>5</td>\n",
              "    </tr>\n",
              "    <tr>\n",
              "      <th>20</th>\n",
              "      <td>#PutinWarCriminal</td>\n",
              "      <td>5</td>\n",
              "    </tr>\n",
              "    <tr>\n",
              "      <th>21</th>\n",
              "      <td>#FJB</td>\n",
              "      <td>5</td>\n",
              "    </tr>\n",
              "    <tr>\n",
              "      <th>22</th>\n",
              "      <td>#RussiaUkraineWar</td>\n",
              "      <td>5</td>\n",
              "    </tr>\n",
              "    <tr>\n",
              "      <th>23</th>\n",
              "      <td>#SlavaUkraini</td>\n",
              "      <td>5</td>\n",
              "    </tr>\n",
              "    <tr>\n",
              "      <th>24</th>\n",
              "      <td>#StopPutin</td>\n",
              "      <td>5</td>\n",
              "    </tr>\n",
              "  </tbody>\n",
              "</table>\n",
              "</div>\n",
              "      <button class=\"colab-df-convert\" onclick=\"convertToInteractive('df-3c819888-d384-40ee-95c6-b3399b685cf8')\"\n",
              "              title=\"Convert this dataframe to an interactive table.\"\n",
              "              style=\"display:none;\">\n",
              "        \n",
              "  <svg xmlns=\"http://www.w3.org/2000/svg\" height=\"24px\"viewBox=\"0 0 24 24\"\n",
              "       width=\"24px\">\n",
              "    <path d=\"M0 0h24v24H0V0z\" fill=\"none\"/>\n",
              "    <path d=\"M18.56 5.44l.94 2.06.94-2.06 2.06-.94-2.06-.94-.94-2.06-.94 2.06-2.06.94zm-11 1L8.5 8.5l.94-2.06 2.06-.94-2.06-.94L8.5 2.5l-.94 2.06-2.06.94zm10 10l.94 2.06.94-2.06 2.06-.94-2.06-.94-.94-2.06-.94 2.06-2.06.94z\"/><path d=\"M17.41 7.96l-1.37-1.37c-.4-.4-.92-.59-1.43-.59-.52 0-1.04.2-1.43.59L10.3 9.45l-7.72 7.72c-.78.78-.78 2.05 0 2.83L4 21.41c.39.39.9.59 1.41.59.51 0 1.02-.2 1.41-.59l7.78-7.78 2.81-2.81c.8-.78.8-2.07 0-2.86zM5.41 20L4 18.59l7.72-7.72 1.47 1.35L5.41 20z\"/>\n",
              "  </svg>\n",
              "      </button>\n",
              "      \n",
              "  <style>\n",
              "    .colab-df-container {\n",
              "      display:flex;\n",
              "      flex-wrap:wrap;\n",
              "      gap: 12px;\n",
              "    }\n",
              "\n",
              "    .colab-df-convert {\n",
              "      background-color: #E8F0FE;\n",
              "      border: none;\n",
              "      border-radius: 50%;\n",
              "      cursor: pointer;\n",
              "      display: none;\n",
              "      fill: #1967D2;\n",
              "      height: 32px;\n",
              "      padding: 0 0 0 0;\n",
              "      width: 32px;\n",
              "    }\n",
              "\n",
              "    .colab-df-convert:hover {\n",
              "      background-color: #E2EBFA;\n",
              "      box-shadow: 0px 1px 2px rgba(60, 64, 67, 0.3), 0px 1px 3px 1px rgba(60, 64, 67, 0.15);\n",
              "      fill: #174EA6;\n",
              "    }\n",
              "\n",
              "    [theme=dark] .colab-df-convert {\n",
              "      background-color: #3B4455;\n",
              "      fill: #D2E3FC;\n",
              "    }\n",
              "\n",
              "    [theme=dark] .colab-df-convert:hover {\n",
              "      background-color: #434B5C;\n",
              "      box-shadow: 0px 1px 3px 1px rgba(0, 0, 0, 0.15);\n",
              "      filter: drop-shadow(0px 1px 2px rgba(0, 0, 0, 0.3));\n",
              "      fill: #FFFFFF;\n",
              "    }\n",
              "  </style>\n",
              "\n",
              "      <script>\n",
              "        const buttonEl =\n",
              "          document.querySelector('#df-3c819888-d384-40ee-95c6-b3399b685cf8 button.colab-df-convert');\n",
              "        buttonEl.style.display =\n",
              "          google.colab.kernel.accessAllowed ? 'block' : 'none';\n",
              "\n",
              "        async function convertToInteractive(key) {\n",
              "          const element = document.querySelector('#df-3c819888-d384-40ee-95c6-b3399b685cf8');\n",
              "          const dataTable =\n",
              "            await google.colab.kernel.invokeFunction('convertToInteractive',\n",
              "                                                     [key], {});\n",
              "          if (!dataTable) return;\n",
              "\n",
              "          const docLinkHtml = 'Like what you see? Visit the ' +\n",
              "            '<a target=\"_blank\" href=https://colab.research.google.com/notebooks/data_table.ipynb>data table notebook</a>'\n",
              "            + ' to learn more about interactive tables.';\n",
              "          element.innerHTML = '';\n",
              "          dataTable['output_type'] = 'display_data';\n",
              "          await google.colab.output.renderOutput(dataTable, element);\n",
              "          const docLink = document.createElement('div');\n",
              "          docLink.innerHTML = docLinkHtml;\n",
              "          element.appendChild(docLink);\n",
              "        }\n",
              "      </script>\n",
              "    </div>\n",
              "  </div>\n",
              "  "
            ]
          },
          "metadata": {},
          "execution_count": 870
        }
      ]
    },
    {
      "cell_type": "code",
      "source": [
        "plt.rcParams[\"figure.figsize\"] = [20, 6]\n",
        "df_hash.plot.bar(x='Hashtag', y='Tweets', rot=90)"
      ],
      "metadata": {
        "colab": {
          "base_uri": "https://localhost:8080/",
          "height": 517
        },
        "id": "rJ6fKy4Xc4Ol",
        "outputId": "d283832e-8030-4c8f-ee36-4b37b704881f"
      },
      "execution_count": null,
      "outputs": [
        {
          "output_type": "execute_result",
          "data": {
            "text/plain": [
              "<matplotlib.axes._subplots.AxesSubplot at 0x7f7a43fc2b50>"
            ]
          },
          "metadata": {},
          "execution_count": 871
        },
        {
          "output_type": "display_data",
          "data": {
            "text/plain": [
              "<Figure size 1440x432 with 1 Axes>"
            ],
            "image/png": "[encoded data removed]"
          },
          "metadata": {
            "needs_background": "light"
          }
        }
      ]
    },
    {
      "cell_type": "markdown",
      "source": [
        "Ahora si, eliminamos el símbolo *#*."
      ],
      "metadata": {
        "id": "ZP4fKpHGitJ3"
      }
    },
    {
      "cell_type": "code",
      "source": [
        "df['Text'] = df['Text'].apply(lambda x : str(x).replace('#', ''))"
      ],
      "metadata": {
        "id": "fnauoa3pin2_"
      },
      "execution_count": null,
      "outputs": []
    },
    {
      "cell_type": "markdown",
      "source": [
        "## Dataset para el modelo:\n",
        "\n",
        "Para la obtención del dataset del modelo se ha extraido una muestra aleatoria (*sample()*) del dataset original y se han etiquetado manualmente todos los tweets acorde con el sentimiento con respecto al conflicto: positivo, negativo, neutral.\n",
        "\n",
        "El criterio que se ha seguido para el etiquetado es el siguiente:\n",
        "\n",
        "*   **Negativo**: los tweets que se consideran negativos son los que muestran una clara opinión en contra de la guerra hacia el fin de la guerra, por terminos diplomaticos o si no se especifica esto último no con la victoria de uno de los dos bandos. Son tweets que se espera contengan las palabras clave: *peace*, *diplomacy*, *negotiation*,*stop the war*, etc.... Otras opiniones negativas pueden englobar aspectos del conflicto de carácter muy negativo en la sociedad ucraniana como pueden ser: opiniones sobre crimenes de guerra, pobreza, injusticias, victimas del conflicto, etc... (aqui se excluyen los titulares de noticias o artículos periodísticos sin un claro posicionameto).\n",
        "\n",
        ">>Ejemplo 1: *Bringing joy to vulnerable kids living in war-torn Ukraine is our passion.A soccer ball... A small joy that made a huge impact. Thank you to Pastor Vasily and the team at God's Gift Church.#joyfokids #makingkidssmile #partnerships #Ukraine #peaceforukraine #kidsmatter*\n",
        "\n",
        ">>Ejemplo 2: *Excellent 30 min discussion on Ukraine war which is affecting the entire world, not just Ukraine &amp Russia Time to negotiate to end the war with its terrible effects over the world-Somalia, Yemen,Africa*\n",
        "\n",
        "*   **Neutral**: aquellos que únicamente describen el conflicto, titulares de noticias sin una clara opinión sobre el conflicto, tweets no relacionados con el tema de estudio, tweets demasiado cortos como para deducir con palabras clave el sentimiento. También tweets que en parte tratan sobre el tema de estudio pero que su opinión o mensaje estan centrados en otros aspectos fuera del conflicto o que no incumben a los dos países involucrados; esto puede ser por ejemplo opiniones sobre política internacional, nacional y/o economica con el conflicto de trasfondo. \n",
        "\n",
        ">>Ejemplo 1: *America must go to Civil war, its time, we need a distraction NOW away from Ukraine, if we dont have a Civil war in the US now, we will all die and the world will end, the democrats have to die*\n",
        "\n",
        ">> Ejemplo 2:*For all the objective merits of making a shortcut to thr most likely outcome of the Ukraine war and saving tens of thousands of lives, understand that Elon is doing it because the Berlin gigafactory is toast without Russian aluminium and cheap gas*\n",
        "\n",
        "\n",
        "*   **Positivo**: aquellos en los que el mensaje no se centra en detener el conflicto por la via diplomatica o pacífica, si no todo lo contrario. De un bando o del otro tweets que insisten en la finalización del conflicto por la via bélica. Tweets, también indiferentemente del bando, que intentan justificar el conflicto. Se han incluido también tweets que en su mayor parte son citas de por ejemplo un personaje público que cumpla con cualquiera de las otras condiciones mencionadas anteriormente. \n",
        "\n",
        ">>Ejemplo 1: *IMO, the is not maximizing the lessons Ukraine is providing fighting the Russian military There should be a weekly Ukraine War Room (tracking the war and grabbing lessons) discussion in every unit Lessons for infantry, armor, artillery, all MOSs*\n",
        "\n",
        ">>Ejemplo 2: *We have to ensure that Ukraine wins faster on the battlefield rather than later They will win, but maximum effort is required from all of us to stop theGenocideofUkrainians History will judge us how quickly we were able to stop this madness*\n",
        "\n",
        "\n",
        "\n",
        "Ignore el nombre del dataframe, puede llevar a confusiones. Al modelar se hace la correcta partición entre dataset de entreno y de test."
      ],
      "metadata": {
        "id": "jk4gSTzqgnbf"
      }
    },
    {
      "cell_type": "code",
      "source": [
        "#test=df.sample(n=300)\n",
        "train=pd.read_csv(\"test.csv\")"
      ],
      "metadata": {
        "id": "gtSotyD3c9id"
      },
      "execution_count": null,
      "outputs": []
    },
    {
      "cell_type": "code",
      "source": [
        "train.info()"
      ],
      "metadata": {
        "colab": {
          "base_uri": "https://localhost:8080/"
        },
        "id": "4BzmoD7fHHLj",
        "outputId": "a576ac74-61a0-4cb0-f46f-4bd0fab2adbd"
      },
      "execution_count": null,
      "outputs": [
        {
          "output_type": "stream",
          "name": "stdout",
          "text": [
            "<class 'pandas.core.frame.DataFrame'>\n",
            "RangeIndex: 301 entries, 0 to 300\n",
            "Data columns (total 6 columns):\n",
            " #   Column      Non-Null Count  Dtype  \n",
            "---  ------      --------------  -----  \n",
            " 0   Unnamed: 0  301 non-null    int64  \n",
            " 1   User_id     301 non-null    float64\n",
            " 2   Created_at  301 non-null    object \n",
            " 3   Text        301 non-null    object \n",
            " 4   Count       300 non-null    float64\n",
            " 5   sentiment   300 non-null    object \n",
            "dtypes: float64(2), int64(1), object(3)\n",
            "memory usage: 14.2+ KB\n"
          ]
        }
      ]
    },
    {
      "cell_type": "code",
      "source": [
        "train[train.isna().any(axis=1)]"
      ],
      "metadata": {
        "colab": {
          "base_uri": "https://localhost:8080/",
          "height": 112
        },
        "id": "DLxhhfegr-FG",
        "outputId": "a1026982-6f5f-4000-e635-aed9b189908f"
      },
      "execution_count": null,
      "outputs": [
        {
          "output_type": "execute_result",
          "data": {
            "text/plain": [
              "     Unnamed: 0       User_id                 Created_at  \\\n",
              "136         427  1.265331e+18  2022-10-27 21:14:06+00:00   \n",
              "300         446  2.532463e+08  2022-10-27 21:15:42+00:00   \n",
              "\n",
              "                                                                                            Text  \\\n",
              "136  Reports of Looting in Kherson as Ukrainians Battle to Retake the City - The New York Times    \n",
              "300                                     Spoken like a true war criminal. https://t.co/1DDn1JlC52   \n",
              "\n",
              "     Count sentiment  \n",
              "136  427.0       NaN  \n",
              "300    NaN   neutral  "
            ],
            "text/html": [
              "\n",
              "  <div id=\"df-fe6c1829-25b9-41bd-90d9-acbe68e2e428\">\n",
              "    <div class=\"colab-df-container\">\n",
              "      <div>\n",
              "<style scoped>\n",
              "    .dataframe tbody tr th:only-of-type {\n",
              "        vertical-align: middle;\n",
              "    }\n",
              "\n",
              "    .dataframe tbody tr th {\n",
              "        vertical-align: top;\n",
              "    }\n",
              "\n",
              "    .dataframe thead th {\n",
              "        text-align: right;\n",
              "    }\n",
              "</style>\n",
              "<table border=\"1\" class=\"dataframe\">\n",
              "  <thead>\n",
              "    <tr style=\"text-align: right;\">\n",
              "      <th></th>\n",
              "      <th>Unnamed: 0</th>\n",
              "      <th>User_id</th>\n",
              "      <th>Created_at</th>\n",
              "      <th>Text</th>\n",
              "      <th>Count</th>\n",
              "      <th>sentiment</th>\n",
              "    </tr>\n",
              "  </thead>\n",
              "  <tbody>\n",
              "    <tr>\n",
              "      <th>136</th>\n",
              "      <td>427</td>\n",
              "      <td>1.265331e+18</td>\n",
              "      <td>2022-10-27 21:14:06+00:00</td>\n",
              "      <td>Reports of Looting in Kherson as Ukrainians Battle to Retake the City - The New York Times</td>\n",
              "      <td>427.0</td>\n",
              "      <td>NaN</td>\n",
              "    </tr>\n",
              "    <tr>\n",
              "      <th>300</th>\n",
              "      <td>446</td>\n",
              "      <td>2.532463e+08</td>\n",
              "      <td>2022-10-27 21:15:42+00:00</td>\n",
              "      <td>Spoken like a true war criminal. https://t.co/1DDn1JlC52</td>\n",
              "      <td>NaN</td>\n",
              "      <td>neutral</td>\n",
              "    </tr>\n",
              "  </tbody>\n",
              "</table>\n",
              "</div>\n",
              "      <button class=\"colab-df-convert\" onclick=\"convertToInteractive('df-fe6c1829-25b9-41bd-90d9-acbe68e2e428')\"\n",
              "              title=\"Convert this dataframe to an interactive table.\"\n",
              "              style=\"display:none;\">\n",
              "        \n",
              "  <svg xmlns=\"http://www.w3.org/2000/svg\" height=\"24px\"viewBox=\"0 0 24 24\"\n",
              "       width=\"24px\">\n",
              "    <path d=\"M0 0h24v24H0V0z\" fill=\"none\"/>\n",
              "    <path d=\"M18.56 5.44l.94 2.06.94-2.06 2.06-.94-2.06-.94-.94-2.06-.94 2.06-2.06.94zm-11 1L8.5 8.5l.94-2.06 2.06-.94-2.06-.94L8.5 2.5l-.94 2.06-2.06.94zm10 10l.94 2.06.94-2.06 2.06-.94-2.06-.94-.94-2.06-.94 2.06-2.06.94z\"/><path d=\"M17.41 7.96l-1.37-1.37c-.4-.4-.92-.59-1.43-.59-.52 0-1.04.2-1.43.59L10.3 9.45l-7.72 7.72c-.78.78-.78 2.05 0 2.83L4 21.41c.39.39.9.59 1.41.59.51 0 1.02-.2 1.41-.59l7.78-7.78 2.81-2.81c.8-.78.8-2.07 0-2.86zM5.41 20L4 18.59l7.72-7.72 1.47 1.35L5.41 20z\"/>\n",
              "  </svg>\n",
              "      </button>\n",
              "      \n",
              "  <style>\n",
              "    .colab-df-container {\n",
              "      display:flex;\n",
              "      flex-wrap:wrap;\n",
              "      gap: 12px;\n",
              "    }\n",
              "\n",
              "    .colab-df-convert {\n",
              "      background-color: #E8F0FE;\n",
              "      border: none;\n",
              "      border-radius: 50%;\n",
              "      cursor: pointer;\n",
              "      display: none;\n",
              "      fill: #1967D2;\n",
              "      height: 32px;\n",
              "      padding: 0 0 0 0;\n",
              "      width: 32px;\n",
              "    }\n",
              "\n",
              "    .colab-df-convert:hover {\n",
              "      background-color: #E2EBFA;\n",
              "      box-shadow: 0px 1px 2px rgba(60, 64, 67, 0.3), 0px 1px 3px 1px rgba(60, 64, 67, 0.15);\n",
              "      fill: #174EA6;\n",
              "    }\n",
              "\n",
              "    [theme=dark] .colab-df-convert {\n",
              "      background-color: #3B4455;\n",
              "      fill: #D2E3FC;\n",
              "    }\n",
              "\n",
              "    [theme=dark] .colab-df-convert:hover {\n",
              "      background-color: #434B5C;\n",
              "      box-shadow: 0px 1px 3px 1px rgba(0, 0, 0, 0.15);\n",
              "      filter: drop-shadow(0px 1px 2px rgba(0, 0, 0, 0.3));\n",
              "      fill: #FFFFFF;\n",
              "    }\n",
              "  </style>\n",
              "\n",
              "      <script>\n",
              "        const buttonEl =\n",
              "          document.querySelector('#df-fe6c1829-25b9-41bd-90d9-acbe68e2e428 button.colab-df-convert');\n",
              "        buttonEl.style.display =\n",
              "          google.colab.kernel.accessAllowed ? 'block' : 'none';\n",
              "\n",
              "        async function convertToInteractive(key) {\n",
              "          const element = document.querySelector('#df-fe6c1829-25b9-41bd-90d9-acbe68e2e428');\n",
              "          const dataTable =\n",
              "            await google.colab.kernel.invokeFunction('convertToInteractive',\n",
              "                                                     [key], {});\n",
              "          if (!dataTable) return;\n",
              "\n",
              "          const docLinkHtml = 'Like what you see? Visit the ' +\n",
              "            '<a target=\"_blank\" href=https://colab.research.google.com/notebooks/data_table.ipynb>data table notebook</a>'\n",
              "            + ' to learn more about interactive tables.';\n",
              "          element.innerHTML = '';\n",
              "          dataTable['output_type'] = 'display_data';\n",
              "          await google.colab.output.renderOutput(dataTable, element);\n",
              "          const docLink = document.createElement('div');\n",
              "          docLink.innerHTML = docLinkHtml;\n",
              "          element.appendChild(docLink);\n",
              "        }\n",
              "      </script>\n",
              "    </div>\n",
              "  </div>\n",
              "  "
            ]
          },
          "metadata": {},
          "execution_count": 875
        }
      ]
    },
    {
      "cell_type": "code",
      "source": [
        "train.loc[136,\"sentiment\"]=\"neutral\""
      ],
      "metadata": {
        "id": "NtDWQaQlsIfS"
      },
      "execution_count": null,
      "outputs": []
    },
    {
      "cell_type": "code",
      "source": [
        "train.loc[22,\"sentiment\"]=\"positive\""
      ],
      "metadata": {
        "id": "TriI_IyzjU4k"
      },
      "execution_count": null,
      "outputs": []
    },
    {
      "cell_type": "code",
      "source": [
        "train.drop(\"Unnamed: 0\",axis=1, inplace=True)"
      ],
      "metadata": {
        "id": "f4R42t3EfuG6"
      },
      "execution_count": null,
      "outputs": []
    },
    {
      "cell_type": "code",
      "source": [
        "train.sort_values(\"Count\", inplace=True)"
      ],
      "metadata": {
        "id": "PVuXC50tWn3U"
      },
      "execution_count": null,
      "outputs": []
    },
    {
      "cell_type": "code",
      "source": [
        "train.head()"
      ],
      "metadata": {
        "colab": {
          "base_uri": "https://localhost:8080/",
          "height": 337
        },
        "id": "TTuCeHicszJl",
        "outputId": "34590c54-c2d3-4c42-8980-9e16231c4c6b"
      },
      "execution_count": null,
      "outputs": [
        {
          "output_type": "execute_result",
          "data": {
            "text/plain": [
              "        User_id                 Created_at  \\\n",
              "0  3.002415e+08  2022-10-27 20:35:04+00:00   \n",
              "1  1.563245e+18  2022-10-27 20:35:35+00:00   \n",
              "2  3.067661e+08  2022-10-27 20:35:49+00:00   \n",
              "3  5.349098e+08  2022-10-27 20:36:08+00:00   \n",
              "4  1.401592e+18  2022-10-27 20:36:09+00:00   \n",
              "\n",
              "                                                                                                                                                                                                                                                                     Text  \\\n",
              "0                                                                                                                                                                                                                              The western double standard has no limit.    \n",
              "1                                                                                                                                                                                                                                    Live updates: Russias war inUkraine    \n",
              "2                                                                                                                                    Well deserved Masih jan! No one can deny the role that Masih has played in uniting and empowering the Iranian women against the IR.    \n",
              "3  Arkhipov kept his nerve.\\n\"This was not only the most dangerous moment of the Cold War. It was the most dangerous moment in human history.\"\\nBut many experts** agree that the #NATO proxy war in #Ukraine against #Russia is far more dangerous.\\n 1/2\\n#nuclearwar     \n",
              "4                                                           Vladimir Putin said the world faced the most dangerous decade since World War Two during an appearance in which he heavily condemned the West and its apparent attitude towards Russia and the Ukraine war.\\n   \n",
              "\n",
              "   Count sentiment  \n",
              "0    4.0   neutral  \n",
              "1    6.0   neutral  \n",
              "2    8.0   neutral  \n",
              "3   14.0  negative  \n",
              "4   15.0  negative  "
            ],
            "text/html": [
              "\n",
              "  <div id=\"df-fe6771c3-198a-41b8-b74b-3c7d847e92c6\">\n",
              "    <div class=\"colab-df-container\">\n",
              "      <div>\n",
              "<style scoped>\n",
              "    .dataframe tbody tr th:only-of-type {\n",
              "        vertical-align: middle;\n",
              "    }\n",
              "\n",
              "    .dataframe tbody tr th {\n",
              "        vertical-align: top;\n",
              "    }\n",
              "\n",
              "    .dataframe thead th {\n",
              "        text-align: right;\n",
              "    }\n",
              "</style>\n",
              "<table border=\"1\" class=\"dataframe\">\n",
              "  <thead>\n",
              "    <tr style=\"text-align: right;\">\n",
              "      <th></th>\n",
              "      <th>User_id</th>\n",
              "      <th>Created_at</th>\n",
              "      <th>Text</th>\n",
              "      <th>Count</th>\n",
              "      <th>sentiment</th>\n",
              "    </tr>\n",
              "  </thead>\n",
              "  <tbody>\n",
              "    <tr>\n",
              "      <th>0</th>\n",
              "      <td>3.002415e+08</td>\n",
              "      <td>2022-10-27 20:35:04+00:00</td>\n",
              "      <td>The western double standard has no limit.</td>\n",
              "      <td>4.0</td>\n",
              "      <td>neutral</td>\n",
              "    </tr>\n",
              "    <tr>\n",
              "      <th>1</th>\n",
              "      <td>1.563245e+18</td>\n",
              "      <td>2022-10-27 20:35:35+00:00</td>\n",
              "      <td>Live updates: Russias war inUkraine</td>\n",
              "      <td>6.0</td>\n",
              "      <td>neutral</td>\n",
              "    </tr>\n",
              "    <tr>\n",
              "      <th>2</th>\n",
              "      <td>3.067661e+08</td>\n",
              "      <td>2022-10-27 20:35:49+00:00</td>\n",
              "      <td>Well deserved Masih jan! No one can deny the role that Masih has played in uniting and empowering the Iranian women against the IR.</td>\n",
              "      <td>8.0</td>\n",
              "      <td>neutral</td>\n",
              "    </tr>\n",
              "    <tr>\n",
              "      <th>3</th>\n",
              "      <td>5.349098e+08</td>\n",
              "      <td>2022-10-27 20:36:08+00:00</td>\n",
              "      <td>Arkhipov kept his nerve.\\n\"This was not only the most dangerous moment of the Cold War. It was the most dangerous moment in human history.\"\\nBut many experts** agree that the #NATO proxy war in #Ukraine against #Russia is far more dangerous.\\n 1/2\\n#nuclearwar</td>\n",
              "      <td>14.0</td>\n",
              "      <td>negative</td>\n",
              "    </tr>\n",
              "    <tr>\n",
              "      <th>4</th>\n",
              "      <td>1.401592e+18</td>\n",
              "      <td>2022-10-27 20:36:09+00:00</td>\n",
              "      <td>Vladimir Putin said the world faced the most dangerous decade since World War Two during an appearance in which he heavily condemned the West and its apparent attitude towards Russia and the Ukraine war.\\n</td>\n",
              "      <td>15.0</td>\n",
              "      <td>negative</td>\n",
              "    </tr>\n",
              "  </tbody>\n",
              "</table>\n",
              "</div>\n",
              "      <button class=\"colab-df-convert\" onclick=\"convertToInteractive('df-fe6771c3-198a-41b8-b74b-3c7d847e92c6')\"\n",
              "              title=\"Convert this dataframe to an interactive table.\"\n",
              "              style=\"display:none;\">\n",
              "        \n",
              "  <svg xmlns=\"http://www.w3.org/2000/svg\" height=\"24px\"viewBox=\"0 0 24 24\"\n",
              "       width=\"24px\">\n",
              "    <path d=\"M0 0h24v24H0V0z\" fill=\"none\"/>\n",
              "    <path d=\"M18.56 5.44l.94 2.06.94-2.06 2.06-.94-2.06-.94-.94-2.06-.94 2.06-2.06.94zm-11 1L8.5 8.5l.94-2.06 2.06-.94-2.06-.94L8.5 2.5l-.94 2.06-2.06.94zm10 10l.94 2.06.94-2.06 2.06-.94-2.06-.94-.94-2.06-.94 2.06-2.06.94z\"/><path d=\"M17.41 7.96l-1.37-1.37c-.4-.4-.92-.59-1.43-.59-.52 0-1.04.2-1.43.59L10.3 9.45l-7.72 7.72c-.78.78-.78 2.05 0 2.83L4 21.41c.39.39.9.59 1.41.59.51 0 1.02-.2 1.41-.59l7.78-7.78 2.81-2.81c.8-.78.8-2.07 0-2.86zM5.41 20L4 18.59l7.72-7.72 1.47 1.35L5.41 20z\"/>\n",
              "  </svg>\n",
              "      </button>\n",
              "      \n",
              "  <style>\n",
              "    .colab-df-container {\n",
              "      display:flex;\n",
              "      flex-wrap:wrap;\n",
              "      gap: 12px;\n",
              "    }\n",
              "\n",
              "    .colab-df-convert {\n",
              "      background-color: #E8F0FE;\n",
              "      border: none;\n",
              "      border-radius: 50%;\n",
              "      cursor: pointer;\n",
              "      display: none;\n",
              "      fill: #1967D2;\n",
              "      height: 32px;\n",
              "      padding: 0 0 0 0;\n",
              "      width: 32px;\n",
              "    }\n",
              "\n",
              "    .colab-df-convert:hover {\n",
              "      background-color: #E2EBFA;\n",
              "      box-shadow: 0px 1px 2px rgba(60, 64, 67, 0.3), 0px 1px 3px 1px rgba(60, 64, 67, 0.15);\n",
              "      fill: #174EA6;\n",
              "    }\n",
              "\n",
              "    [theme=dark] .colab-df-convert {\n",
              "      background-color: #3B4455;\n",
              "      fill: #D2E3FC;\n",
              "    }\n",
              "\n",
              "    [theme=dark] .colab-df-convert:hover {\n",
              "      background-color: #434B5C;\n",
              "      box-shadow: 0px 1px 3px 1px rgba(0, 0, 0, 0.15);\n",
              "      filter: drop-shadow(0px 1px 2px rgba(0, 0, 0, 0.3));\n",
              "      fill: #FFFFFF;\n",
              "    }\n",
              "  </style>\n",
              "\n",
              "      <script>\n",
              "        const buttonEl =\n",
              "          document.querySelector('#df-fe6771c3-198a-41b8-b74b-3c7d847e92c6 button.colab-df-convert');\n",
              "        buttonEl.style.display =\n",
              "          google.colab.kernel.accessAllowed ? 'block' : 'none';\n",
              "\n",
              "        async function convertToInteractive(key) {\n",
              "          const element = document.querySelector('#df-fe6771c3-198a-41b8-b74b-3c7d847e92c6');\n",
              "          const dataTable =\n",
              "            await google.colab.kernel.invokeFunction('convertToInteractive',\n",
              "                                                     [key], {});\n",
              "          if (!dataTable) return;\n",
              "\n",
              "          const docLinkHtml = 'Like what you see? Visit the ' +\n",
              "            '<a target=\"_blank\" href=https://colab.research.google.com/notebooks/data_table.ipynb>data table notebook</a>'\n",
              "            + ' to learn more about interactive tables.';\n",
              "          element.innerHTML = '';\n",
              "          dataTable['output_type'] = 'display_data';\n",
              "          await google.colab.output.renderOutput(dataTable, element);\n",
              "          const docLink = document.createElement('div');\n",
              "          docLink.innerHTML = docLinkHtml;\n",
              "          element.appendChild(docLink);\n",
              "        }\n",
              "      </script>\n",
              "    </div>\n",
              "  </div>\n",
              "  "
            ]
          },
          "metadata": {},
          "execution_count": 880
        }
      ]
    },
    {
      "cell_type": "markdown",
      "source": [
        "Aplicamos algo más de limpieza de datos, esta vez eliminamos signos de puntuación."
      ],
      "metadata": {
        "id": "e3lAuf4gF7CP"
      }
    },
    {
      "cell_type": "code",
      "source": [
        "train['Text'] = train['Text'].apply(lambda x : str(x).replace('#', '').replace('\\\\n', ',').replace('\\\\', '').replace(\"'\", \"\").replace(\"\\n\",\" \"))\n",
        "\n",
        "def remove_punctuation(text):\n",
        "    final = \"\".join(u for u in text if u not in (\"?\", \".\", \";\", \":\",  \"!\",'\"'))\n",
        "    return final\n",
        "train['Text'] = train['Text'].apply(remove_punctuation)\n"
      ],
      "metadata": {
        "id": "JrBp3Qd0tkL5"
      },
      "execution_count": null,
      "outputs": []
    },
    {
      "cell_type": "code",
      "source": [
        "train.to_csv(\"train.csv\")"
      ],
      "metadata": {
        "id": "Hzt1CK9Xi42y"
      },
      "execution_count": null,
      "outputs": []
    },
    {
      "cell_type": "markdown",
      "source": [
        "Creamos una columna con la codificación de la variable categórica sentimiento."
      ],
      "metadata": {
        "id": "Qy6yT6puGB-W"
      }
    },
    {
      "cell_type": "code",
      "source": [
        "train=pd.read_csv(\"train.csv\",sep=\",\",lineterminator='\\n')"
      ],
      "metadata": {
        "id": "mR-iFk9qX79v"
      },
      "execution_count": null,
      "outputs": []
    },
    {
      "cell_type": "code",
      "source": [
        "train['score'] = (\n",
        "    np.select(\n",
        "        condlist=[train['sentiment'] == \"positive\", train['sentiment'] == \"negative\"], \n",
        "        choicelist=[1, -1], \n",
        "        default=0))"
      ],
      "metadata": {
        "id": "XEyzM_Jki_3q"
      },
      "execution_count": null,
      "outputs": []
    },
    {
      "cell_type": "markdown",
      "source": [
        "Visualizamos la distribución de dicha variable. Vemos que nos ha quedado, como era de esperar un dataset imbalanceado: con muy pocos positivos.\n",
        "\n",
        "Algo sorprendente es la cantidad de neutrales."
      ],
      "metadata": {
        "id": "VgLudWs1GHtY"
      }
    },
    {
      "cell_type": "code",
      "source": [
        "train[\"sentiment\"].value_counts()"
      ],
      "metadata": {
        "id": "BxlUBnJqCxZA",
        "outputId": "fb3941c5-d355-46e8-951c-e851a966eec0",
        "colab": {
          "base_uri": "https://localhost:8080/"
        }
      },
      "execution_count": null,
      "outputs": [
        {
          "output_type": "execute_result",
          "data": {
            "text/plain": [
              "neutral     193\n",
              "negative     80\n",
              "positive     28\n",
              "Name: sentiment, dtype: int64"
            ]
          },
          "metadata": {},
          "execution_count": 19
        }
      ]
    },
    {
      "cell_type": "code",
      "source": [
        "fig = px.histogram(train, x=\"sentiment\")\n",
        "fig.update_traces(marker_color=\"indianred\",marker_line_color='rgb(8,48,107)',\n",
        "                  marker_line_width=1.5)\n",
        "fig.update_layout(title_text='Tweet Sentiment')\n",
        "fig.show()"
      ],
      "metadata": {
        "colab": {
          "base_uri": "https://localhost:8080/",
          "height": 542
        },
        "id": "o0SKqo-PkkjE",
        "outputId": "76ea4673-7c9e-4f7b-86d6-9d6403a49827"
      },
      "execution_count": null,
      "outputs": [
        {
          "output_type": "display_data",
          "data": {
            "text/html": [
              "<html>\n",
              "<head><meta charset=\"utf-8\" /></head>\n",
              "<body>\n",
              "    <div>            <script src=\"https://cdnjs.cloudflare.com/ajax/libs/mathjax/2.7.5/MathJax.js?config=TeX-AMS-MML_SVG\"></script><script type=\"text/javascript\">if (window.MathJax) {MathJax.Hub.Config({SVG: {font: \"STIX-Web\"}});}</script>                <script type=\"text/javascript\">window.PlotlyConfig = {MathJaxConfig: 'local'};</script>\n",
              "        <script src=\"https://cdn.plot.ly/plotly-2.8.3.min.js\"></script>                <div id=\"7c734ab4-a78c-492f-943b-40f44ceaa966\" class=\"plotly-graph-div\" style=\"height:525px; width:100%;\"></div>            <script type=\"text/javascript\">                                    window.PLOTLYENV=window.PLOTLYENV || {};                                    if (document.getElementById(\"7c734ab4-a78c-492f-943b-40f44ceaa966\")) {                    Plotly.newPlot(                        \"7c734ab4-a78c-492f-943b-40f44ceaa966\",                        [{\"alignmentgroup\":\"True\",\"bingroup\":\"x\",\"hovertemplate\":\"sentiment=%{x}<br>count=%{y}<extra></extra>\",\"legendgroup\":\"\",\"marker\":{\"color\":\"indianred\",\"pattern\":{\"shape\":\"\"},\"line\":{\"color\":\"rgb(8,48,107)\",\"width\":1.5}},\"name\":\"\",\"offsetgroup\":\"\",\"orientation\":\"v\",\"showlegend\":false,\"x\":[\"neutral\",\"neutral\",\"neutral\",\"negative\",\"negative\",\"negative\",\"neutral\",\"neutral\",\"neutral\",\"positive\",\"neutral\",\"neutral\",\"negative\",\"neutral\",\"neutral\",\"neutral\",\"neutral\",\"neutral\",\"positive\",\"negative\",\"neutral\",\"positive\",\"positive\",\"negative\",\"positive\",\"neutral\",\"neutral\",\"neutral\",\"neutral\",\"neutral\",\"neutral\",\"neutral\",\"negative\",\"neutral\",\"neutral\",\"neutral\",\"negative\",\"negative\",\"negative\",\"neutral\",\"neutral\",\"negative\",\"neutral\",\"negative\",\"neutral\",\"neutral\",\"negative\",\"neutral\",\"positive\",\"neutral\",\"neutral\",\"neutral\",\"neutral\",\"neutral\",\"neutral\",\"positive\",\"neutral\",\"neutral\",\"neutral\",\"neutral\",\"negative\",\"negative\",\"neutral\",\"neutral\",\"negative\",\"negative\",\"neutral\",\"neutral\",\"neutral\",\"neutral\",\"neutral\",\"neutral\",\"neutral\",\"neutral\",\"neutral\",\"neutral\",\"negative\",\"neutral\",\"negative\",\"neutral\",\"negative\",\"neutral\",\"negative\",\"neutral\",\"neutral\",\"negative\",\"negative\",\"negative\",\"negative\",\"neutral\",\"neutral\",\"negative\",\"positive\",\"neutral\",\"positive\",\"neutral\",\"negative\",\"neutral\",\"neutral\",\"neutral\",\"neutral\",\"neutral\",\"negative\",\"neutral\",\"positive\",\"neutral\",\"neutral\",\"neutral\",\"negative\",\"neutral\",\"neutral\",\"neutral\",\"neutral\",\"negative\",\"neutral\",\"neutral\",\"neutral\",\"neutral\",\"positive\",\"neutral\",\"neutral\",\"neutral\",\"neutral\",\"neutral\",\"neutral\",\"neutral\",\"negative\",\"neutral\",\"neutral\",\"negative\",\"negative\",\"neutral\",\"positive\",\"positive\",\"neutral\",\"neutral\",\"neutral\",\"neutral\",\"negative\",\"negative\",\"neutral\",\"neutral\",\"neutral\",\"neutral\",\"positive\",\"negative\",\"negative\",\"neutral\",\"neutral\",\"neutral\",\"neutral\",\"neutral\",\"neutral\",\"negative\",\"neutral\",\"negative\",\"neutral\",\"neutral\",\"neutral\",\"neutral\",\"neutral\",\"neutral\",\"neutral\",\"negative\",\"neutral\",\"neutral\",\"neutral\",\"neutral\",\"neutral\",\"neutral\",\"neutral\",\"neutral\",\"negative\",\"neutral\",\"neutral\",\"neutral\",\"positive\",\"neutral\",\"positive\",\"negative\",\"neutral\",\"negative\",\"neutral\",\"positive\",\"neutral\",\"neutral\",\"neutral\",\"neutral\",\"neutral\",\"neutral\",\"positive\",\"negative\",\"neutral\",\"neutral\",\"neutral\",\"neutral\",\"neutral\",\"neutral\",\"neutral\",\"neutral\",\"negative\",\"neutral\",\"neutral\",\"neutral\",\"negative\",\"neutral\",\"negative\",\"negative\",\"negative\",\"negative\",\"neutral\",\"neutral\",\"negative\",\"negative\",\"negative\",\"neutral\",\"neutral\",\"neutral\",\"negative\",\"positive\",\"neutral\",\"neutral\",\"neutral\",\"positive\",\"negative\",\"neutral\",\"positive\",\"neutral\",\"neutral\",\"negative\",\"neutral\",\"negative\",\"neutral\",\"neutral\",\"neutral\",\"neutral\",\"negative\",\"neutral\",\"neutral\",\"negative\",\"negative\",\"negative\",\"neutral\",\"neutral\",\"neutral\",\"neutral\",\"neutral\",\"neutral\",\"neutral\",\"negative\",\"negative\",\"positive\",\"neutral\",\"positive\",\"negative\",\"positive\",\"neutral\",\"neutral\",\"negative\",\"positive\",\"negative\",\"neutral\",\"negative\",\"negative\",\"neutral\",\"neutral\",\"negative\",\"neutral\",\"neutral\",\"positive\",\"neutral\",\"neutral\",\"neutral\",\"neutral\",\"neutral\",\"negative\",\"negative\",\"neutral\",\"neutral\",\"neutral\",\"neutral\",\"neutral\",\"negative\",\"negative\",\"positive\",\"neutral\",\"negative\",\"negative\",\"neutral\",\"negative\",\"neutral\",\"neutral\",\"neutral\",\"neutral\",\"positive\",\"negative\",\"neutral\",\"negative\",\"negative\",\"negative\",\"neutral\"],\"xaxis\":\"x\",\"yaxis\":\"y\",\"type\":\"histogram\"}],                        {\"template\":{\"data\":{\"bar\":[{\"error_x\":{\"color\":\"#2a3f5f\"},\"error_y\":{\"color\":\"#2a3f5f\"},\"marker\":{\"line\":{\"color\":\"#E5ECF6\",\"width\":0.5},\"pattern\":{\"fillmode\":\"overlay\",\"size\":10,\"solidity\":0.2}},\"type\":\"bar\"}],\"barpolar\":[{\"marker\":{\"line\":{\"color\":\"#E5ECF6\",\"width\":0.5},\"pattern\":{\"fillmode\":\"overlay\",\"size\":10,\"solidity\":0.2}},\"type\":\"barpolar\"}],\"carpet\":[{\"aaxis\":{\"endlinecolor\":\"#2a3f5f\",\"gridcolor\":\"white\",\"linecolor\":\"white\",\"minorgridcolor\":\"white\",\"startlinecolor\":\"#2a3f5f\"},\"baxis\":{\"endlinecolor\":\"#2a3f5f\",\"gridcolor\":\"white\",\"linecolor\":\"white\",\"minorgridcolor\":\"white\",\"startlinecolor\":\"#2a3f5f\"},\"type\":\"carpet\"}],\"choropleth\":[{\"colorbar\":{\"outlinewidth\":0,\"ticks\":\"\"},\"type\":\"choropleth\"}],\"contour\":[{\"colorbar\":{\"outlinewidth\":0,\"ticks\":\"\"},\"colorscale\":[[0.0,\"#0d0887\"],[0.1111111111111111,\"#46039f\"],[0.2222222222222222,\"#7201a8\"],[0.3333333333333333,\"#9c179e\"],[0.4444444444444444,\"#bd3786\"],[0.5555555555555556,\"#d8576b\"],[0.6666666666666666,\"#ed7953\"],[0.7777777777777778,\"#fb9f3a\"],[0.8888888888888888,\"#fdca26\"],[1.0,\"#f0f921\"]],\"type\":\"contour\"}],\"contourcarpet\":[{\"colorbar\":{\"outlinewidth\":0,\"ticks\":\"\"},\"type\":\"contourcarpet\"}],\"heatmap\":[{\"colorbar\":{\"outlinewidth\":0,\"ticks\":\"\"},\"colorscale\":[[0.0,\"#0d0887\"],[0.1111111111111111,\"#46039f\"],[0.2222222222222222,\"#7201a8\"],[0.3333333333333333,\"#9c179e\"],[0.4444444444444444,\"#bd3786\"],[0.5555555555555556,\"#d8576b\"],[0.6666666666666666,\"#ed7953\"],[0.7777777777777778,\"#fb9f3a\"],[0.8888888888888888,\"#fdca26\"],[1.0,\"#f0f921\"]],\"type\":\"heatmap\"}],\"heatmapgl\":[{\"colorbar\":{\"outlinewidth\":0,\"ticks\":\"\"},\"colorscale\":[[0.0,\"#0d0887\"],[0.1111111111111111,\"#46039f\"],[0.2222222222222222,\"#7201a8\"],[0.3333333333333333,\"#9c179e\"],[0.4444444444444444,\"#bd3786\"],[0.5555555555555556,\"#d8576b\"],[0.6666666666666666,\"#ed7953\"],[0.7777777777777778,\"#fb9f3a\"],[0.8888888888888888,\"#fdca26\"],[1.0,\"#f0f921\"]],\"type\":\"heatmapgl\"}],\"histogram\":[{\"marker\":{\"pattern\":{\"fillmode\":\"overlay\",\"size\":10,\"solidity\":0.2}},\"type\":\"histogram\"}],\"histogram2d\":[{\"colorbar\":{\"outlinewidth\":0,\"ticks\":\"\"},\"colorscale\":[[0.0,\"#0d0887\"],[0.1111111111111111,\"#46039f\"],[0.2222222222222222,\"#7201a8\"],[0.3333333333333333,\"#9c179e\"],[0.4444444444444444,\"#bd3786\"],[0.5555555555555556,\"#d8576b\"],[0.6666666666666666,\"#ed7953\"],[0.7777777777777778,\"#fb9f3a\"],[0.8888888888888888,\"#fdca26\"],[1.0,\"#f0f921\"]],\"type\":\"histogram2d\"}],\"histogram2dcontour\":[{\"colorbar\":{\"outlinewidth\":0,\"ticks\":\"\"},\"colorscale\":[[0.0,\"#0d0887\"],[0.1111111111111111,\"#46039f\"],[0.2222222222222222,\"#7201a8\"],[0.3333333333333333,\"#9c179e\"],[0.4444444444444444,\"#bd3786\"],[0.5555555555555556,\"#d8576b\"],[0.6666666666666666,\"#ed7953\"],[0.7777777777777778,\"#fb9f3a\"],[0.8888888888888888,\"#fdca26\"],[1.0,\"#f0f921\"]],\"type\":\"histogram2dcontour\"}],\"mesh3d\":[{\"colorbar\":{\"outlinewidth\":0,\"ticks\":\"\"},\"type\":\"mesh3d\"}],\"parcoords\":[{\"line\":{\"colorbar\":{\"outlinewidth\":0,\"ticks\":\"\"}},\"type\":\"parcoords\"}],\"pie\":[{\"automargin\":true,\"type\":\"pie\"}],\"scatter\":[{\"marker\":{\"colorbar\":{\"outlinewidth\":0,\"ticks\":\"\"}},\"type\":\"scatter\"}],\"scatter3d\":[{\"line\":{\"colorbar\":{\"outlinewidth\":0,\"ticks\":\"\"}},\"marker\":{\"colorbar\":{\"outlinewidth\":0,\"ticks\":\"\"}},\"type\":\"scatter3d\"}],\"scattercarpet\":[{\"marker\":{\"colorbar\":{\"outlinewidth\":0,\"ticks\":\"\"}},\"type\":\"scattercarpet\"}],\"scattergeo\":[{\"marker\":{\"colorbar\":{\"outlinewidth\":0,\"ticks\":\"\"}},\"type\":\"scattergeo\"}],\"scattergl\":[{\"marker\":{\"colorbar\":{\"outlinewidth\":0,\"ticks\":\"\"}},\"type\":\"scattergl\"}],\"scattermapbox\":[{\"marker\":{\"colorbar\":{\"outlinewidth\":0,\"ticks\":\"\"}},\"type\":\"scattermapbox\"}],\"scatterpolar\":[{\"marker\":{\"colorbar\":{\"outlinewidth\":0,\"ticks\":\"\"}},\"type\":\"scatterpolar\"}],\"scatterpolargl\":[{\"marker\":{\"colorbar\":{\"outlinewidth\":0,\"ticks\":\"\"}},\"type\":\"scatterpolargl\"}],\"scatterternary\":[{\"marker\":{\"colorbar\":{\"outlinewidth\":0,\"ticks\":\"\"}},\"type\":\"scatterternary\"}],\"surface\":[{\"colorbar\":{\"outlinewidth\":0,\"ticks\":\"\"},\"colorscale\":[[0.0,\"#0d0887\"],[0.1111111111111111,\"#46039f\"],[0.2222222222222222,\"#7201a8\"],[0.3333333333333333,\"#9c179e\"],[0.4444444444444444,\"#bd3786\"],[0.5555555555555556,\"#d8576b\"],[0.6666666666666666,\"#ed7953\"],[0.7777777777777778,\"#fb9f3a\"],[0.8888888888888888,\"#fdca26\"],[1.0,\"#f0f921\"]],\"type\":\"surface\"}],\"table\":[{\"cells\":{\"fill\":{\"color\":\"#EBF0F8\"},\"line\":{\"color\":\"white\"}},\"header\":{\"fill\":{\"color\":\"#C8D4E3\"},\"line\":{\"color\":\"white\"}},\"type\":\"table\"}]},\"layout\":{\"annotationdefaults\":{\"arrowcolor\":\"#2a3f5f\",\"arrowhead\":0,\"arrowwidth\":1},\"autotypenumbers\":\"strict\",\"coloraxis\":{\"colorbar\":{\"outlinewidth\":0,\"ticks\":\"\"}},\"colorscale\":{\"diverging\":[[0,\"#8e0152\"],[0.1,\"#c51b7d\"],[0.2,\"#de77ae\"],[0.3,\"#f1b6da\"],[0.4,\"#fde0ef\"],[0.5,\"#f7f7f7\"],[0.6,\"#e6f5d0\"],[0.7,\"#b8e186\"],[0.8,\"#7fbc41\"],[0.9,\"#4d9221\"],[1,\"#276419\"]],\"sequential\":[[0.0,\"#0d0887\"],[0.1111111111111111,\"#46039f\"],[0.2222222222222222,\"#7201a8\"],[0.3333333333333333,\"#9c179e\"],[0.4444444444444444,\"#bd3786\"],[0.5555555555555556,\"#d8576b\"],[0.6666666666666666,\"#ed7953\"],[0.7777777777777778,\"#fb9f3a\"],[0.8888888888888888,\"#fdca26\"],[1.0,\"#f0f921\"]],\"sequentialminus\":[[0.0,\"#0d0887\"],[0.1111111111111111,\"#46039f\"],[0.2222222222222222,\"#7201a8\"],[0.3333333333333333,\"#9c179e\"],[0.4444444444444444,\"#bd3786\"],[0.5555555555555556,\"#d8576b\"],[0.6666666666666666,\"#ed7953\"],[0.7777777777777778,\"#fb9f3a\"],[0.8888888888888888,\"#fdca26\"],[1.0,\"#f0f921\"]]},\"colorway\":[\"#636efa\",\"#EF553B\",\"#00cc96\",\"#ab63fa\",\"#FFA15A\",\"#19d3f3\",\"#FF6692\",\"#B6E880\",\"#FF97FF\",\"#FECB52\"],\"font\":{\"color\":\"#2a3f5f\"},\"geo\":{\"bgcolor\":\"white\",\"lakecolor\":\"white\",\"landcolor\":\"#E5ECF6\",\"showlakes\":true,\"showland\":true,\"subunitcolor\":\"white\"},\"hoverlabel\":{\"align\":\"left\"},\"hovermode\":\"closest\",\"mapbox\":{\"style\":\"light\"},\"paper_bgcolor\":\"white\",\"plot_bgcolor\":\"#E5ECF6\",\"polar\":{\"angularaxis\":{\"gridcolor\":\"white\",\"linecolor\":\"white\",\"ticks\":\"\"},\"bgcolor\":\"#E5ECF6\",\"radialaxis\":{\"gridcolor\":\"white\",\"linecolor\":\"white\",\"ticks\":\"\"}},\"scene\":{\"xaxis\":{\"backgroundcolor\":\"#E5ECF6\",\"gridcolor\":\"white\",\"gridwidth\":2,\"linecolor\":\"white\",\"showbackground\":true,\"ticks\":\"\",\"zerolinecolor\":\"white\"},\"yaxis\":{\"backgroundcolor\":\"#E5ECF6\",\"gridcolor\":\"white\",\"gridwidth\":2,\"linecolor\":\"white\",\"showbackground\":true,\"ticks\":\"\",\"zerolinecolor\":\"white\"},\"zaxis\":{\"backgroundcolor\":\"#E5ECF6\",\"gridcolor\":\"white\",\"gridwidth\":2,\"linecolor\":\"white\",\"showbackground\":true,\"ticks\":\"\",\"zerolinecolor\":\"white\"}},\"shapedefaults\":{\"line\":{\"color\":\"#2a3f5f\"}},\"ternary\":{\"aaxis\":{\"gridcolor\":\"white\",\"linecolor\":\"white\",\"ticks\":\"\"},\"baxis\":{\"gridcolor\":\"white\",\"linecolor\":\"white\",\"ticks\":\"\"},\"bgcolor\":\"#E5ECF6\",\"caxis\":{\"gridcolor\":\"white\",\"linecolor\":\"white\",\"ticks\":\"\"}},\"title\":{\"x\":0.05},\"xaxis\":{\"automargin\":true,\"gridcolor\":\"white\",\"linecolor\":\"white\",\"ticks\":\"\",\"title\":{\"standoff\":15},\"zerolinecolor\":\"white\",\"zerolinewidth\":2},\"yaxis\":{\"automargin\":true,\"gridcolor\":\"white\",\"linecolor\":\"white\",\"ticks\":\"\",\"title\":{\"standoff\":15},\"zerolinecolor\":\"white\",\"zerolinewidth\":2}}},\"xaxis\":{\"anchor\":\"y\",\"domain\":[0.0,1.0],\"title\":{\"text\":\"sentiment\"}},\"yaxis\":{\"anchor\":\"x\",\"domain\":[0.0,1.0],\"title\":{\"text\":\"count\"}},\"legend\":{\"tracegroupgap\":0},\"margin\":{\"t\":60},\"barmode\":\"relative\",\"title\":{\"text\":\"Tweet Sentiment\"}},                        {\"responsive\": true}                    ).then(function(){\n",
              "                            \n",
              "var gd = document.getElementById('7c734ab4-a78c-492f-943b-40f44ceaa966');\n",
              "var x = new MutationObserver(function (mutations, observer) {{\n",
              "        var display = window.getComputedStyle(gd).display;\n",
              "        if (!display || display === 'none') {{\n",
              "            console.log([gd, 'removed!']);\n",
              "            Plotly.purge(gd);\n",
              "            observer.disconnect();\n",
              "        }}\n",
              "}});\n",
              "\n",
              "// Listen for the removal of the full notebook cells\n",
              "var notebookContainer = gd.closest('#notebook-container');\n",
              "if (notebookContainer) {{\n",
              "    x.observe(notebookContainer, {childList: true});\n",
              "}}\n",
              "\n",
              "// Listen for the clearing of the current output cell\n",
              "var outputEl = gd.closest('.output');\n",
              "if (outputEl) {{\n",
              "    x.observe(outputEl, {childList: true});\n",
              "}}\n",
              "\n",
              "                        })                };                            </script>        </div>\n",
              "</body>\n",
              "</html>"
            ]
          },
          "metadata": {}
        }
      ]
    },
    {
      "cell_type": "code",
      "source": [
        "sentiment_score_df = train[['sentiment', 'score']].drop_duplicates().sort_values('score')\n",
        "sentiment_score = dict(sentiment_score_df.values)\n",
        "sentiment_score[\"negative\"]=0\n",
        "sentiment_score[\"neutral\"]=1\n",
        "sentiment_score[\"positive\"]=2\n",
        "sentiment_score"
      ],
      "metadata": {
        "colab": {
          "base_uri": "https://localhost:8080/"
        },
        "id": "K3-0BlBr9sL4",
        "outputId": "997a5ed3-310e-4528-cb61-e3c9b3b30741"
      },
      "execution_count": null,
      "outputs": [
        {
          "output_type": "execute_result",
          "data": {
            "text/plain": [
              "{'negative': 0, 'positive': 2, 'neutral': 1}"
            ]
          },
          "metadata": {},
          "execution_count": 6
        }
      ]
    },
    {
      "cell_type": "markdown",
      "source": [
        "Este último calculo y modificación se ha hecho para un cálculo que presentaremos más adelante."
      ],
      "metadata": {
        "id": "wLOLGHCuA3MH"
      }
    },
    {
      "cell_type": "markdown",
      "source": [
        "## Modelamos:\n",
        "\n",
        "Para este problema de predicción de variables categóricas multinomiales emplearemos dos modelos y compararemos el ajuste que tienen. \n",
        "\n",
        "En primer lugar se llevará a cabo una regresión logística, que en el caso de la libreria scikit-learn permite ajustar para variables dependientes multinomiales. \n",
        "\n",
        "En segundo lugar emplearemos el modelo Naive Bayes Multinomial.\n",
        "\n",
        "En ambos casos estamos ante un problema en el que emplearemos dos algoritmos de ML supervisados. \n",
        "\n",
        "El primer inconveniente que nos encontramos es el procesado del texto: los clasificadores y algoritmos no pueden procesar directamente textos en su forma original, dado que estan diseñados para recibir vectores númericos. Por lo tanto, habrá que hacer un preprocesado de dichos textos, además de la limpieza de datos que ya hemos realizado anteriormente.\n",
        "\n",
        "Un planteamiento bastante común es utilizar el modelo *bag of words*, o bolsa de palabras/banco de palabras. Un modelo que tiene en cuenta por cada texto la presencia y la frecuencia de las palabras que aparecen aunque ignora el orden de estas."
      ],
      "metadata": {
        "id": "4QmwDdy4nT6L"
      }
    },
    {
      "cell_type": "markdown",
      "source": [
        "Concretamente para cada tweet de nuestro dataset calcularemos la frecuencia de los unigramas y bigramas (esto es la frecuencia de una sola palabra y la frecuencia en la que aparecen dos palabras juntas). Así tenemos dicha medida abreviada a *tf-idf*. Para esto utilizaremos *sklearn.feature_extraction.text.TfidVectorizer*. Los argumentos que aparecen son los siguientes:\n",
        "\n",
        "\n",
        "\n",
        "*   *sublinear_df*: Verdadero para utilizar la forma logaritmica de frecuencia\n",
        "*   *min_df*: número mínimo que una palabra ha de aparecer en un tweet\n",
        "*   *norm*: asignado a 12 para que todo nuestro vector de características tenga una norma de Euclides de 1.\n",
        "*   *ngram_range*: asignado en (1,2) para indicar que queremos palabras solas y acompañadas de una palabra mas.\n",
        "*   *stop_words*: asignado a inglés para eliminar ruido de los tweets. Es decir, palabras como pronombres."
      ],
      "metadata": {
        "id": "u7BTJFCA4zqH"
      }
    },
    {
      "cell_type": "code",
      "source": [
        "from sklearn.feature_extraction.text import TfidfVectorizer\n",
        "tfidf = TfidfVectorizer(sublinear_tf=True, min_df=5, norm='l2', encoding='latin-1', ngram_range=(1, 2), stop_words='english')\n",
        "features = tfidf.fit_transform(train.Text).toarray()\n",
        "labels = train.sentiment\n",
        "features.shape"
      ],
      "metadata": {
        "colab": {
          "base_uri": "https://localhost:8080/"
        },
        "id": "EJsZZRz8nTR_",
        "outputId": "7c53de4c-80c1-42d8-8d94-4ad6a7d01c37"
      },
      "execution_count": null,
      "outputs": [
        {
          "output_type": "execute_result",
          "data": {
            "text/plain": [
              "(301, 117)"
            ]
          },
          "metadata": {},
          "execution_count": 7
        }
      ]
    },
    {
      "cell_type": "markdown",
      "source": [
        "De esta forma tenemos 117 características o palabras que caracterizan a cada uno de los tweets que tenemos representando nuestro *tfidf* para los diferentes unigramas y bigramas."
      ],
      "metadata": {
        "id": "AHeOysu2AzT0"
      }
    },
    {
      "cell_type": "markdown",
      "source": [
        "Veamos ahora cuales son las palabras más correlacionadas con cada sentimiento.\n",
        "\n",
        "Para ello utilizaremos *sklearn.feature_selection.chi2*. Notese N=4 indicando que queremos las 4 palabras y 4 parejas de palabras mas correlacionadas con cada sentimiento."
      ],
      "metadata": {
        "id": "oAmWNMvD-yoK"
      }
    },
    {
      "cell_type": "code",
      "source": [
        "from sklearn.feature_selection import chi2\n",
        "import numpy as np\n",
        "N = 4\n",
        "for sentiment, score in sorted(sentiment_score.items()):\n",
        "  features_chi2 = chi2(features, labels == sentiment)\n",
        "  indices = np.argsort(features_chi2[0])\n",
        "  feature_names = np.array(tfidf.get_feature_names())[indices]\n",
        "  unigrams = [v for v in feature_names if len(v.split(' ')) == 1]\n",
        "  bigrams = [v for v in feature_names if len(v.split(' ')) == 2]\n",
        "  print(\"# '{}':\".format(sentiment))\n",
        "  print(\"  . Most correlated unigrams:\\n. {}\".format('\\n. '.join(unigrams[-N:])))\n",
        "  print(\"  . Most correlated bigrams:\\n. {}\".format('\\n. '.join(bigrams[-N:])))"
      ],
      "metadata": {
        "colab": {
          "base_uri": "https://localhost:8080/"
        },
        "id": "udXzZ8I9-Axd",
        "outputId": "4c966cdf-a2cd-4938-d869-5aa12eb831f0"
      },
      "execution_count": null,
      "outputs": [
        {
          "output_type": "stream",
          "name": "stdout",
          "text": [
            "# 'negative':\n",
            "  . Most correlated unigrams:\n",
            ". end\n",
            ". pure\n",
            ". evil\n",
            ". dangerous\n",
            "  . Most correlated bigrams:\n",
            ". dangerous bloody\n",
            ". putin slams\n",
            ". slams west\n",
            ". west dangerous\n",
            "# 'neutral':\n",
            "  . Most correlated unigrams:\n",
            ". oil\n",
            ". dangerous\n",
            ". stop\n",
            ". trump\n",
            "  . Most correlated bigrams:\n",
            ". dangerous bloody\n",
            ". slams west\n",
            ". west dangerous\n",
            ". putin slams\n",
            "# 'positive':\n",
            "  . Most correlated unigrams:\n",
            ". trump\n",
            ". time\n",
            ". stop\n",
            ". good\n",
            "  . Most correlated bigrams:\n",
            ". ukraine russia\n",
            ". diplomacy end\n",
            ". russia ukraine\n",
            ". russias war\n"
          ]
        },
        {
          "output_type": "stream",
          "name": "stderr",
          "text": [
            "/usr/local/lib/python3.7/dist-packages/sklearn/utils/deprecation.py:87: FutureWarning:\n",
            "\n",
            "Function get_feature_names is deprecated; get_feature_names is deprecated in 1.0 and will be removed in 1.2. Please use get_feature_names_out instead.\n",
            "\n",
            "/usr/local/lib/python3.7/dist-packages/sklearn/utils/deprecation.py:87: FutureWarning:\n",
            "\n",
            "Function get_feature_names is deprecated; get_feature_names is deprecated in 1.0 and will be removed in 1.2. Please use get_feature_names_out instead.\n",
            "\n",
            "/usr/local/lib/python3.7/dist-packages/sklearn/utils/deprecation.py:87: FutureWarning:\n",
            "\n",
            "Function get_feature_names is deprecated; get_feature_names is deprecated in 1.0 and will be removed in 1.2. Please use get_feature_names_out instead.\n",
            "\n"
          ]
        }
      ]
    },
    {
      "cell_type": "markdown",
      "source": [
        "Los resultados son algo deseperanzadores, las parejas de palabras de los sentimientos neutrales y negativo coinciden... Por otra parte los unigramas del sentimiento positivo tampoco nos da mucha información, en cambio el del negativo parece lo esperado.\n",
        "\n",
        "Esto nos indica que más adelante tendremos problemas en nuestros modelos, dado que no podra diferenciar bien entre neutral y negativo, sumado a que tenemos un dataset imbalanceado; hay muy pocos positivos...\n",
        "\n",
        "Parece ser que un mejor etiquetado de los datos puede ayudar a mejorar esto y a su vez mejorar el ajuste y calidad del modelo, sea cual sea."
      ],
      "metadata": {
        "id": "gLPUvo4yARnW"
      }
    },
    {
      "cell_type": "markdown",
      "source": [
        "## Regresión logística:\n"
      ],
      "metadata": {
        "id": "D_C_UDQnA_Td"
      }
    },
    {
      "cell_type": "code",
      "source": [
        "from sklearn.feature_extraction.text import CountVectorizer\n",
        "from sklearn.naive_bayes import MultinomialNB\n",
        "from sklearn.feature_extraction.text import TfidfTransformer\n",
        "from sklearn.linear_model import LogisticRegression\n",
        "from sklearn.model_selection import train_test_split\n",
        "\n",
        "X_train, X_test, y_train, y_test = train_test_split(train[\"Text\"], train[\"sentiment\"], \n",
        "                                                    test_size=0.25,\n",
        "                                                    random_state = 42)\n",
        "count_vect = CountVectorizer()\n",
        "\n",
        "X_train_counts = count_vect.fit_transform(X_train)\n",
        "tfidf_transformer = TfidfTransformer()\n",
        "X_train_tfidf = tfidf_transformer.fit_transform(X_train_counts)\n",
        "clf = LogisticRegression(random_state=0).fit(X_train_tfidf, y_train)"
      ],
      "metadata": {
        "id": "7GUyGWrQnbjL"
      },
      "execution_count": null,
      "outputs": []
    },
    {
      "cell_type": "markdown",
      "source": [
        "Vemos como nuestro modelo tiene un rendimiento bastante bajo, tanto en el set de entreno como en el de validación."
      ],
      "metadata": {
        "id": "zVGZpY62ku-q"
      }
    },
    {
      "cell_type": "code",
      "source": [
        "clf.score(count_vect.transform(X_train),y_train)"
      ],
      "metadata": {
        "colab": {
          "base_uri": "https://localhost:8080/"
        },
        "id": "tO7OZBkf2D7k",
        "outputId": "112f8fa3-1e57-46a4-bc4f-c1341716aae4"
      },
      "execution_count": null,
      "outputs": [
        {
          "output_type": "execute_result",
          "data": {
            "text/plain": [
              "0.6444444444444445"
            ]
          },
          "metadata": {},
          "execution_count": 9
        }
      ]
    },
    {
      "cell_type": "code",
      "source": [
        "clf.score(count_vect.transform(X_test),y_test)"
      ],
      "metadata": {
        "colab": {
          "base_uri": "https://localhost:8080/"
        },
        "id": "Oq1UBq1nwzk4",
        "outputId": "6dfa6d19-c244-4a57-8e53-74cb9cbf00ee"
      },
      "execution_count": null,
      "outputs": [
        {
          "output_type": "execute_result",
          "data": {
            "text/plain": [
              "0.3815789473684211"
            ]
          },
          "metadata": {},
          "execution_count": 10
        }
      ]
    },
    {
      "cell_type": "markdown",
      "source": [
        "Vemos que no ha predicho ningún positivo correcto, curiosamente ha clasificado 10 positivos (los unicos en la muestra) como negativos..."
      ],
      "metadata": {
        "id": "vb4FxhL2k2gK"
      }
    },
    {
      "cell_type": "code",
      "source": [
        "y_pred = clf.predict(count_vect.transform(X_test))\n",
        "\n",
        "from sklearn.metrics import confusion_matrix\n",
        "conf_mat = confusion_matrix(y_test, y_pred)\n",
        "fig, ax = plt.subplots(figsize=(10,10))\n",
        "sns.heatmap(conf_mat, annot=True, fmt='d',\n",
        "            xticklabels=sentiment_score_df.sentiment.values, yticklabels=sentiment_score_df.sentiment.values)\n",
        "plt.ylabel('Actual')\n",
        "plt.xlabel('Predicted')\n",
        "plt.show()"
      ],
      "metadata": {
        "colab": {
          "base_uri": "https://localhost:8080/",
          "height": 606
        },
        "id": "0pbRSz-ZCfTI",
        "outputId": "10ff5df1-b0d6-4b42-8d3c-9c6cb7e9ac69"
      },
      "execution_count": null,
      "outputs": [
        {
          "output_type": "display_data",
          "data": {
            "text/plain": [
              "<Figure size 720x720 with 2 Axes>"
            ],
            "image/png": "[encoded data removed]"
          },
          "metadata": {
            "needs_background": "light"
          }
        }
      ]
    },
    {
      "cell_type": "code",
      "source": [
        "from sklearn.metrics import classification_report\n",
        "\n",
        "print(classification_report(y_test, y_pred))"
      ],
      "metadata": {
        "colab": {
          "base_uri": "https://localhost:8080/"
        },
        "id": "YPPo1dZOBg9n",
        "outputId": "71eefd51-ad6e-4aa6-8bdc-72de0d1f1610"
      },
      "execution_count": null,
      "outputs": [
        {
          "output_type": "stream",
          "name": "stdout",
          "text": [
            "              precision    recall  f1-score   support\n",
            "\n",
            "    negative       0.27      0.94      0.42        18\n",
            "     neutral       1.00      0.25      0.40        48\n",
            "    positive       0.00      0.00      0.00        10\n",
            "\n",
            "    accuracy                           0.38        76\n",
            "   macro avg       0.42      0.40      0.27        76\n",
            "weighted avg       0.70      0.38      0.35        76\n",
            "\n"
          ]
        }
      ]
    },
    {
      "cell_type": "markdown",
      "source": [
        "## Naives Bayes Multinomial:\n"
      ],
      "metadata": {
        "id": "XNtoByTnBG0M"
      }
    },
    {
      "cell_type": "code",
      "source": [
        "X_train, X_test, y_train, y_test = train_test_split(train[\"Text\"], train[\"sentiment\"], \n",
        "                                                    test_size=0.25,\n",
        "                                                    random_state = 42)\n",
        "count_vect = CountVectorizer()\n",
        "\n",
        "X_train_counts = count_vect.fit_transform(X_train)\n",
        "tfidf_transformer = TfidfTransformer()\n",
        "X_train_tfidf = tfidf_transformer.fit_transform(X_train_counts)\n",
        "mnb = MultinomialNB().fit(X_train_tfidf, y_train)"
      ],
      "metadata": {
        "id": "j9W-K4gHxaAD"
      },
      "execution_count": null,
      "outputs": []
    },
    {
      "cell_type": "markdown",
      "source": [
        "El modelo multinomial mejora sustancialmente a primera vista el modelo logístico visto anteriormente. Aún asi es una puntuación algo baja en la validación."
      ],
      "metadata": {
        "id": "hy3tHQd2lBSI"
      }
    },
    {
      "cell_type": "code",
      "source": [
        "mnb.score(count_vect.transform(X_train),y_train)"
      ],
      "metadata": {
        "colab": {
          "base_uri": "https://localhost:8080/"
        },
        "id": "2_PbHhIG2Kgz",
        "outputId": "b75c6d5e-279d-4323-94f8-9ae532952954"
      },
      "execution_count": null,
      "outputs": [
        {
          "output_type": "execute_result",
          "data": {
            "text/plain": [
              "0.8222222222222222"
            ]
          },
          "metadata": {},
          "execution_count": 15
        }
      ]
    },
    {
      "cell_type": "code",
      "source": [
        "mnb.score(count_vect.transform(X_test),y_test)"
      ],
      "metadata": {
        "colab": {
          "base_uri": "https://localhost:8080/"
        },
        "id": "Oj4wxEY8xq6I",
        "outputId": "978672fe-4e87-4eb3-a83a-4032c1a29853"
      },
      "execution_count": null,
      "outputs": [
        {
          "output_type": "execute_result",
          "data": {
            "text/plain": [
              "0.6447368421052632"
            ]
          },
          "metadata": {},
          "execution_count": 16
        }
      ]
    },
    {
      "cell_type": "markdown",
      "source": [
        "Mirando la matriz de confusión vemos como practicamente todo lo ha clasificado como neutral, valor predominante en la muestra. De la misma forma ha clasificado como negativo 1 valor positivo y 9 neutrales que en realidad son positivos..."
      ],
      "metadata": {
        "id": "U83K9ilElMB5"
      }
    },
    {
      "cell_type": "code",
      "source": [
        "y_pred = mnb.predict(count_vect.transform(X_test))\n",
        "\n",
        "from sklearn.metrics import confusion_matrix\n",
        "conf_mat = confusion_matrix(y_test, y_pred)\n",
        "fig, ax = plt.subplots(figsize=(10,10))\n",
        "sns.heatmap(conf_mat, annot=True, fmt='d',\n",
        "            xticklabels=sentiment_score_df.sentiment.values, yticklabels=sentiment_score_df.sentiment.values)\n",
        "plt.ylabel('Actual')\n",
        "plt.xlabel('Predicted')\n",
        "plt.show()"
      ],
      "metadata": {
        "colab": {
          "base_uri": "https://localhost:8080/",
          "height": 606
        },
        "id": "L252-yyCyDs2",
        "outputId": "44aa54aa-a308-4ff9-cd40-4f83ea782c3e"
      },
      "execution_count": null,
      "outputs": [
        {
          "output_type": "display_data",
          "data": {
            "text/plain": [
              "<Figure size 720x720 with 2 Axes>"
            ],
            "image/png": "[encoded data removed]"
          },
          "metadata": {
            "needs_background": "light"
          }
        }
      ]
    },
    {
      "cell_type": "markdown",
      "source": [
        "Todo esto nos lleva a la conclusión que en realidad hay que mejorar el preprocesado de los textos, obteniendo unos criterios de etiquetado mucho más claros y arbitrarios de acuerdo a palabras clave que podamos encontrar.\n",
        "\n",
        "A su vez, la obtención de un dataset más grande es esencial para una mejor predicción y rendimiento de nuestros modelos."
      ],
      "metadata": {
        "id": "Y0iLTLS5ldop"
      }
    },
    {
      "cell_type": "code",
      "source": [
        "print(classification_report(y_test, y_pred))"
      ],
      "metadata": {
        "colab": {
          "base_uri": "https://localhost:8080/"
        },
        "id": "IywEgjypB_10",
        "outputId": "ad10ac3b-1977-4de2-a7c1-643132f66112"
      },
      "execution_count": null,
      "outputs": [
        {
          "output_type": "stream",
          "name": "stdout",
          "text": [
            "              precision    recall  f1-score   support\n",
            "\n",
            "    negative       0.50      0.06      0.10        18\n",
            "     neutral       0.65      1.00      0.79        48\n",
            "    positive       0.00      0.00      0.00        10\n",
            "\n",
            "    accuracy                           0.64        76\n",
            "   macro avg       0.38      0.35      0.30        76\n",
            "weighted avg       0.53      0.64      0.52        76\n",
            "\n"
          ]
        },
        {
          "output_type": "stream",
          "name": "stderr",
          "text": [
            "/usr/local/lib/python3.8/dist-packages/sklearn/metrics/_classification.py:1318: UndefinedMetricWarning:\n",
            "\n",
            "Precision and F-score are ill-defined and being set to 0.0 in labels with no predicted samples. Use `zero_division` parameter to control this behavior.\n",
            "\n",
            "/usr/local/lib/python3.8/dist-packages/sklearn/metrics/_classification.py:1318: UndefinedMetricWarning:\n",
            "\n",
            "Precision and F-score are ill-defined and being set to 0.0 in labels with no predicted samples. Use `zero_division` parameter to control this behavior.\n",
            "\n",
            "/usr/local/lib/python3.8/dist-packages/sklearn/metrics/_classification.py:1318: UndefinedMetricWarning:\n",
            "\n",
            "Precision and F-score are ill-defined and being set to 0.0 in labels with no predicted samples. Use `zero_division` parameter to control this behavior.\n",
            "\n"
          ]
        }
      ]
    },
    {
      "cell_type": "markdown",
      "source": [
        "## LSTM"
      ],
      "metadata": {
        "id": "QOFJb4R7bqI6"
      }
    },
    {
      "cell_type": "code",
      "source": [
        "from sklearn.preprocessing import LabelEncoder\n",
        "\n",
        "revisiones_texto, etiquetas_texto =train[\"Text\"].tolist(), train[\"sentiment\"].tolist()\n",
        "label_encoder = LabelEncoder()\n",
        "label_encoder.fit(etiquetas_texto)\n",
        "y = label_encoder.transform(etiquetas_texto)"
      ],
      "metadata": {
        "id": "h3IQtjtKYYV7"
      },
      "execution_count": null,
      "outputs": []
    },
    {
      "cell_type": "code",
      "source": [
        "from tensorflow.keras.preprocessing import sequence\n",
        "from tensorflow.keras.preprocessing.text import Tokenizer\n",
        "from collections import Counter\n",
        "import random\n",
        "import matplotlib.pyplot as plt\n",
        "import numpy as np\n",
        "\n",
        "\n",
        "\n",
        "def addBeginSeqSymbol(sequences): \n",
        "    newSeqs = []\n",
        "    for seq in sequences:\n",
        "        newSeqs.append([1] + [value+1 for value in seq])\n",
        "    newSeqs = np.array(newSeqs)\n",
        "    return newSeqs"
      ],
      "metadata": {
        "id": "oiDVIBIZYu3B"
      },
      "execution_count": null,
      "outputs": []
    },
    {
      "cell_type": "code",
      "source": [
        "print(\"Vectorizing...\")\n",
        "tokenizer = Tokenizer()\n",
        "tokenizer.fit_on_texts(revisiones_texto)\n",
        "# convertimos las instancias en arrays de ID de palabra\n",
        "tr_sequences = tokenizer.texts_to_sequences(revisiones_texto)"
      ],
      "metadata": {
        "colab": {
          "base_uri": "https://localhost:8080/"
        },
        "id": "0PvBR9l_Y05s",
        "outputId": "5e071fc2-2be0-41b1-b62d-d059f6d690e3"
      },
      "execution_count": null,
      "outputs": [
        {
          "output_type": "stream",
          "name": "stdout",
          "text": [
            "Vectorizing...\n"
          ]
        }
      ]
    },
    {
      "cell_type": "code",
      "source": [
        "# anadimos símbolo de inicio de frase\n",
        "tr_sequences = addBeginSeqSymbol(tr_sequences) # vamos a empezar todas las secuencias con el símbolo reservado 1. +1 al resto de IDs, para hacerlo único a este propósito\n",
        " \n",
        "word_index = {k: v+1 for k, v in tokenizer.word_index.items()} # +1 ya que el 0 está reservado para padding, y el 1 ya lo hemos reservado para el inicio de la secuencia\n",
        "index_word = {v: k for k,v in word_index.items()}\n",
        "max_features = max(word_index.values())+1 # +1 ya que la posición de max_features es también accesible via índice"
      ],
      "metadata": {
        "colab": {
          "base_uri": "https://localhost:8080/"
        },
        "id": "kob3QsDZY5UX",
        "outputId": "ed09d117-2ae2-4fc3-d93e-240755f65aa1"
      },
      "execution_count": null,
      "outputs": [
        {
          "output_type": "stream",
          "name": "stderr",
          "text": [
            "<ipython-input-48-22568f9b21e2>:14: VisibleDeprecationWarning: Creating an ndarray from ragged nested sequences (which is a list-or-tuple of lists-or-tuples-or ndarrays with different lengths or shapes) is deprecated. If you meant to do this, you must specify 'dtype=object' when creating the ndarray.\n",
            "  newSeqs = np.array(newSeqs)\n"
          ]
        }
      ]
    },
    {
      "cell_type": "code",
      "source": [
        "max_features"
      ],
      "metadata": {
        "colab": {
          "base_uri": "https://localhost:8080/"
        },
        "id": "ga-FUaF2Y6ii",
        "outputId": "c353b61d-52d9-4b39-a995-20db3523bc36"
      },
      "execution_count": null,
      "outputs": [
        {
          "output_type": "execute_result",
          "data": {
            "text/plain": [
              "2224"
            ]
          },
          "metadata": {},
          "execution_count": 51
        }
      ]
    },
    {
      "cell_type": "code",
      "source": [
        "print('Padding sequences (samples x time)...')\n",
        "x = sequence.pad_sequences(tr_sequences)"
      ],
      "metadata": {
        "colab": {
          "base_uri": "https://localhost:8080/"
        },
        "id": "-dZ8fugKY9lK",
        "outputId": "54e2b543-e081-4551-aef0-273435cb1d6c"
      },
      "execution_count": null,
      "outputs": [
        {
          "output_type": "stream",
          "name": "stdout",
          "text": [
            "Padding sequences (samples x time)...\n"
          ]
        }
      ]
    },
    {
      "cell_type": "code",
      "source": [
        "from sklearn.model_selection import train_test_split\n",
        "\n",
        "#Split 75/25\n",
        "X_train, X_rem, y_train, y_rem = train_test_split(x,y, train_size=0.75)\n",
        "\n",
        "#Del split 20% hacemos un split 50/50\n",
        "#X_valid, X_test, y_valid, y_test = train_test_split(X_rem,y_rem, test_size=0.5)"
      ],
      "metadata": {
        "id": "wLPRFAv1Y_gd"
      },
      "execution_count": null,
      "outputs": []
    },
    {
      "cell_type": "code",
      "source": [
        "print(X_train.shape), print(y_train.shape)\n",
        "print(X_rem.shape), print(y_rem.shape)\n"
      ],
      "metadata": {
        "colab": {
          "base_uri": "https://localhost:8080/"
        },
        "id": "dIeujoPwZEAV",
        "outputId": "ac34f863-bf32-4429-ba26-785f093ee6d2"
      },
      "execution_count": null,
      "outputs": [
        {
          "output_type": "stream",
          "name": "stdout",
          "text": [
            "(225, 56)\n",
            "(225,)\n",
            "(76, 56)\n",
            "(76,)\n"
          ]
        },
        {
          "output_type": "execute_result",
          "data": {
            "text/plain": [
              "(None, None)"
            ]
          },
          "metadata": {},
          "execution_count": 78
        }
      ]
    },
    {
      "cell_type": "code",
      "source": [
        "def get_class_distribution(obj):\n",
        "    count_dict = {\n",
        "        \"negative\": 0,\n",
        "        \"neutral\": 0,\n",
        "        \"positive\": 0\n",
        "    }\n",
        "    \n",
        "    for i in obj:\n",
        "        if i == 0: \n",
        "            count_dict['negative'] += 1\n",
        "        elif i == 1: \n",
        "            count_dict['neutral'] += 1\n",
        "        elif i == 2: \n",
        "            count_dict['positive'] += 1            \n",
        "        else:\n",
        "            print(\"Check classes.\")\n",
        "            \n",
        "    return count_dict"
      ],
      "metadata": {
        "id": "neCFxYj_ZHLt"
      },
      "execution_count": null,
      "outputs": []
    },
    {
      "cell_type": "code",
      "source": [
        "import torch\n",
        "from torch.utils.data import TensorDataset, DataLoader, Dataset, WeightedRandomSampler\n",
        "from tensorflow.keras.utils import to_categorical\n",
        "\n",
        "#crear Tensor datasets\n",
        "\n",
        "train_data = TensorDataset(torch.from_numpy(X_train), torch.from_numpy(y_train))\n",
        "valid_data = TensorDataset(torch.from_numpy(X_rem), torch.from_numpy(y_rem))\n",
        "#test_data = TensorDataset(torch.from_numpy(X_test), torch.from_numpy(y_test))\n",
        "\n",
        "\n",
        "\n",
        "target_list = []\n",
        "for _, t in train_data:\n",
        "    target_list.append(t)\n",
        "    \n",
        "target_list = torch.tensor(target_list)\n",
        "\n",
        "class_count = [i for i in get_class_distribution(y_train).values()]\n",
        "class_weights = 1./torch.tensor(class_count, dtype=torch.float) \n",
        "print(class_weights)"
      ],
      "metadata": {
        "colab": {
          "base_uri": "https://localhost:8080/"
        },
        "id": "-mKyMghBZLYx",
        "outputId": "6aeece9c-8cf8-4692-89bc-6fb19ae34d68"
      },
      "execution_count": null,
      "outputs": [
        {
          "output_type": "stream",
          "name": "stdout",
          "text": [
            "tensor([0.0179, 0.0067, 0.0526])\n"
          ]
        }
      ]
    },
    {
      "cell_type": "code",
      "source": [
        "class_weights_all = class_weights[target_list]"
      ],
      "metadata": {
        "id": "cMCDe8fUZQN7"
      },
      "execution_count": null,
      "outputs": []
    },
    {
      "cell_type": "code",
      "source": [
        "weighted_sampler = WeightedRandomSampler(\n",
        "    weights=class_weights_all,\n",
        "    num_samples=len(class_weights_all),\n",
        "    replacement=True\n",
        ")"
      ],
      "metadata": {
        "id": "JPAxEKsPZUI0"
      },
      "execution_count": null,
      "outputs": []
    },
    {
      "cell_type": "code",
      "source": [
        "batch_size = 32\n",
        "\n",
        "train_loader = DataLoader(train_data, batch_size=batch_size,sampler=weighted_sampler)\n",
        "valid_loader = DataLoader(valid_data, batch_size=1)\n",
        "#test_loader = DataLoader(test_data, batch_size=1)"
      ],
      "metadata": {
        "id": "yE3Y_tJlZXru"
      },
      "execution_count": null,
      "outputs": []
    },
    {
      "cell_type": "code",
      "source": [
        "# comprobamos si hay alguna GPU disponible\n",
        "train_on_gpu = torch.cuda.is_available()\n",
        "\n",
        "if(train_on_gpu):\n",
        "    device = torch.device('cuda')\n",
        "    print('Training on GPU.')\n",
        "else:\n",
        "    device = torch.device('cpu')\n",
        "    print('No GPU available, training on CPU.')"
      ],
      "metadata": {
        "colab": {
          "base_uri": "https://localhost:8080/"
        },
        "id": "TslFPty9ZaJ8",
        "outputId": "e2c29046-5c70-4b94-da70-362fb3f6f648"
      },
      "execution_count": null,
      "outputs": [
        {
          "output_type": "stream",
          "name": "stdout",
          "text": [
            "No GPU available, training on CPU.\n"
          ]
        }
      ]
    },
    {
      "cell_type": "code",
      "source": [
        "import torch.nn as nn\n",
        "embedding_dim=100\n",
        "hidden_dim = embedding_dim\n",
        "output_dim = 3\n",
        "\n",
        "\n",
        "class LSTM(nn.Module):\n",
        "  def __init__(self, vocabulary_size, embedding_size, hidden_dim,\n",
        "               output_dim, device):\n",
        "    super().__init__()\n",
        "\n",
        "    self.output_size = output_dim\n",
        "    self.hidden_dim = hidden_dim\n",
        "    self.device=device\n",
        "\n",
        "    self.embedding = nn.Embedding(vocabulary_size, embedding_size)\n",
        "\n",
        "    self.lstm = nn.LSTM(embedding_size, hidden_dim, batch_first=True)\n",
        "    self.fc1 = nn.Linear(hidden_dim, output_dim)\n",
        "    \n",
        "    self.sig = nn.Softmax()\n",
        "\n",
        "  def forward(self, x):\n",
        "\n",
        "    x = self.embedding(x)\n",
        "\n",
        "    x = x.float()\n",
        "\n",
        "    lstm_out, hidden = self.lstm(x)\n",
        "    lstm_out = lstm_out[:, -1, :]\n",
        "    out = self.fc1(lstm_out)\n",
        "    sig_out = self.sig(out)\n",
        "    return sig_out"
      ],
      "metadata": {
        "id": "wq5RhCR0ZdhJ"
      },
      "execution_count": null,
      "outputs": []
    },
    {
      "cell_type": "code",
      "source": [
        "model = LSTM(max_features, embedding_dim, hidden_dim,\n",
        "               output_dim, device)"
      ],
      "metadata": {
        "id": "bXVs2uhsZjjM"
      },
      "execution_count": null,
      "outputs": []
    },
    {
      "cell_type": "code",
      "source": [
        "print(model)"
      ],
      "metadata": {
        "colab": {
          "base_uri": "https://localhost:8080/"
        },
        "id": "McLgNizpZmUU",
        "outputId": "a7d133f3-6724-4bc2-ec21-db48c194e50e"
      },
      "execution_count": null,
      "outputs": [
        {
          "output_type": "stream",
          "name": "stdout",
          "text": [
            "LSTM(\n",
            "  (embedding): Embedding(2224, 100)\n",
            "  (lstm): LSTM(100, 100, batch_first=True)\n",
            "  (fc1): Linear(in_features=100, out_features=3, bias=True)\n",
            "  (sig): Softmax(dim=None)\n",
            ")\n"
          ]
        }
      ]
    },
    {
      "cell_type": "code",
      "source": [
        "lr=0.001\n",
        "criterion = nn.CrossEntropyLoss(weight=class_weights.to(device))\n",
        "optimizer = torch.optim.Adam(model.parameters(), lr=lr)"
      ],
      "metadata": {
        "id": "_xfi7cX7Zo_r"
      },
      "execution_count": null,
      "outputs": []
    },
    {
      "cell_type": "code",
      "source": [
        "def multi_acc(y_pred, y_test):\n",
        "    y_pred_softmax = torch.log_softmax(y_pred, dim = 1)\n",
        "    _, y_pred_tags = torch.max(y_pred_softmax, dim = 1)    \n",
        "    \n",
        "    correct_pred = (y_pred_tags == y_test).float()\n",
        "    acc = correct_pred.sum() / len(correct_pred)\n",
        "    \n",
        "    acc = torch.round(acc * 100)\n",
        "    \n",
        "    return acc\n",
        "\n",
        "history = {\"loss\":[], \"val_loss\":[], \"acc\":[], \"val_accuracy\":[]}"
      ],
      "metadata": {
        "id": "wIMiZW3PZsWr"
      },
      "execution_count": null,
      "outputs": []
    },
    {
      "cell_type": "code",
      "source": [
        "print(\"Begin training.\")\n",
        "epochs=15\n",
        "if(train_on_gpu):\n",
        "    model.cuda()\n",
        "for e in range(epochs):\n",
        "    \n",
        "    # TRAINING\n",
        "    train_epoch_loss = 0\n",
        "    train_epoch_acc = 0\n",
        "    model.train()\n",
        "\n",
        "    for X_train_batch, y_train_batch in train_loader:\n",
        "        X_train_batch, y_train_batch = X_train_batch.to(device), y_train_batch.to(device)\n",
        "        optimizer.zero_grad()\n",
        "        \n",
        "        y_train_pred = model(X_train_batch)\n",
        "        \n",
        "        train_loss = criterion(y_train_pred, y_train_batch)\n",
        "        train_acc = multi_acc(y_train_pred, y_train_batch)\n",
        "        \n",
        "        train_loss.backward()\n",
        "        optimizer.step()\n",
        "        \n",
        "        train_epoch_loss += train_loss.item()\n",
        "        train_epoch_acc += train_acc.item()\n",
        "        \n",
        "        \n",
        "    # VALIDATION    \n",
        "    with torch.no_grad():\n",
        "        \n",
        "        val_epoch_loss = 0\n",
        "        val_epoch_acc = 0\n",
        "        \n",
        "        model.eval()\n",
        "        for X_val_batch, y_val_batch in valid_loader:\n",
        "            X_val_batch, y_val_batch = X_val_batch.to(device), y_val_batch.to(device)\n",
        "            \n",
        "            y_val_pred = model(X_val_batch)\n",
        "                        \n",
        "            val_loss = criterion(y_val_pred, y_val_batch)\n",
        "            val_acc = multi_acc(y_val_pred, y_val_batch)\n",
        "            \n",
        "            val_epoch_loss += val_loss.item()\n",
        "            val_epoch_acc += val_acc.item()\n",
        "    history['loss'].append(train_epoch_loss/len(train_loader))\n",
        "    history['val_loss'].append(val_epoch_loss/len(valid_loader))\n",
        "    history['acc'].append(train_epoch_acc/len(train_loader))\n",
        "    history['val_accuracy'].append(val_epoch_acc/len(valid_loader))\n",
        "                              \n",
        "    print(f'Epoch {e+0:03}: | Train Loss: {train_epoch_loss/len(train_loader):.5f} | Val Loss: {val_epoch_loss/len(valid_loader):.5f} | Train Acc: {train_epoch_acc/len(train_loader):.3f}| Val Acc: {val_epoch_acc/len(valid_loader):.3f}')"
      ],
      "metadata": {
        "colab": {
          "base_uri": "https://localhost:8080/"
        },
        "id": "nZ_jHSpQZvM0",
        "outputId": "f85b6e64-ea95-40f8-fe9c-3e66c447b024"
      },
      "execution_count": null,
      "outputs": [
        {
          "output_type": "stream",
          "name": "stdout",
          "text": [
            "Begin training.\n"
          ]
        },
        {
          "output_type": "stream",
          "name": "stderr",
          "text": [
            "<ipython-input-83-354ae8c4bf67>:32: UserWarning: Implicit dimension choice for softmax has been deprecated. Change the call to include dim=X as an argument.\n",
            "  sig_out = self.sig(out)\n"
          ]
        },
        {
          "output_type": "stream",
          "name": "stdout",
          "text": [
            "Epoch 000: | Train Loss: 1.05241 | Val Loss: 1.11644 | Train Acc: 45.750| Val Acc: 15.789\n",
            "Epoch 001: | Train Loss: 1.01927 | Val Loss: 1.14262 | Train Acc: 35.250| Val Acc: 13.158\n",
            "Epoch 002: | Train Loss: 0.94264 | Val Loss: 1.18474 | Train Acc: 33.125| Val Acc: 13.158\n",
            "Epoch 003: | Train Loss: 0.90640 | Val Loss: 1.24041 | Train Acc: 34.250| Val Acc: 13.158\n",
            "Epoch 004: | Train Loss: 0.88525 | Val Loss: 1.22647 | Train Acc: 31.875| Val Acc: 14.474\n",
            "Epoch 005: | Train Loss: 0.75014 | Val Loss: 1.20855 | Train Acc: 53.125| Val Acc: 18.421\n",
            "Epoch 006: | Train Loss: 0.84480 | Val Loss: 1.19552 | Train Acc: 43.625| Val Acc: 21.053\n",
            "Epoch 007: | Train Loss: 0.78540 | Val Loss: 1.17979 | Train Acc: 50.125| Val Acc: 22.368\n",
            "Epoch 008: | Train Loss: 0.75806 | Val Loss: 1.16230 | Train Acc: 66.000| Val Acc: 31.579\n",
            "Epoch 009: | Train Loss: 0.72899 | Val Loss: 1.13943 | Train Acc: 75.000| Val Acc: 28.947\n",
            "Epoch 010: | Train Loss: 0.68400 | Val Loss: 1.12537 | Train Acc: 74.875| Val Acc: 34.211\n",
            "Epoch 011: | Train Loss: 0.64467 | Val Loss: 1.13645 | Train Acc: 72.250| Val Acc: 34.211\n",
            "Epoch 012: | Train Loss: 0.70231 | Val Loss: 1.14475 | Train Acc: 74.875| Val Acc: 35.526\n",
            "Epoch 013: | Train Loss: 0.63012 | Val Loss: 1.13948 | Train Acc: 75.000| Val Acc: 39.474\n",
            "Epoch 014: | Train Loss: 0.68675 | Val Loss: 1.11461 | Train Acc: 68.375| Val Acc: 42.105\n"
          ]
        }
      ]
    },
    {
      "cell_type": "code",
      "source": [
        "import matplotlib.pyplot as pyplot\n",
        "\n",
        "def plot_acc(data):\n",
        "  plt.figure(figsize=(6,8))\n",
        "  plt.plot(data[\"loss\"], label=\"loss\")\n",
        "  plt.plot(data[\"val_loss\"], label=\"val_loss\")\n",
        "  plt.legend()\n",
        "  plt.show()\n",
        "  plt.close()\n",
        "  print()\n",
        "  plt.plot(data[\"val_accuracy\"],label=\"val_accuracy\")\n",
        "  plt.plot(data[\"acc\"], label=\"train_accuracy\")\n",
        "  plt.legend()\n",
        "  plt.show()\n",
        "  plt.close()"
      ],
      "metadata": {
        "id": "f81vWbx6Z__b"
      },
      "execution_count": null,
      "outputs": []
    },
    {
      "cell_type": "code",
      "source": [
        "plot_acc(history)"
      ],
      "metadata": {
        "colab": {
          "base_uri": "https://localhost:8080/",
          "height": 749
        },
        "id": "4uAH1Ie8aGWw",
        "outputId": "14f7bb56-e51f-40fc-e087-8e3de8b9d20d"
      },
      "execution_count": null,
      "outputs": [
        {
          "output_type": "display_data",
          "data": {
            "text/plain": [
              "<Figure size 432x576 with 1 Axes>"
            ],
            "image/png": "[encoded data removed]"
          },
          "metadata": {
            "needs_background": "light"
          }
        },
        {
          "output_type": "stream",
          "name": "stdout",
          "text": [
            "\n"
          ]
        },
        {
          "output_type": "display_data",
          "data": {
            "text/plain": [
              "<Figure size 432x288 with 1 Axes>"
            ],
            "image/png": "[encoded data removed]"
          },
          "metadata": {
            "needs_background": "light"
          }
        }
      ]
    },
    {
      "cell_type": "code",
      "source": [
        "y_pred_list = []\n",
        "with torch.no_grad():\n",
        "    model.eval()\n",
        "    for X_batch, _ in valid_loader:\n",
        "        X_batch = X_batch.to(device)\n",
        "        y_test_pred = model(X_batch)\n",
        "        _, y_pred_tags = torch.max(y_test_pred, dim = 1)\n",
        "        y_pred_list.append(y_pred_tags.cpu().numpy())\n",
        "y_pred_list = [a.squeeze().tolist() for a in y_pred_list]"
      ],
      "metadata": {
        "colab": {
          "base_uri": "https://localhost:8080/"
        },
        "id": "R4kkc4Q7aJpw",
        "outputId": "e408e20a-23c5-4787-9b3e-65f5b93cd51d"
      },
      "execution_count": null,
      "outputs": [
        {
          "output_type": "stream",
          "name": "stderr",
          "text": [
            "<ipython-input-83-354ae8c4bf67>:32: UserWarning: Implicit dimension choice for softmax has been deprecated. Change the call to include dim=X as an argument.\n",
            "  sig_out = self.sig(out)\n"
          ]
        }
      ]
    },
    {
      "cell_type": "code",
      "source": [
        "import seaborn as sns\n",
        "from sklearn.metrics import confusion_matrix, classification_report\n",
        "conf_mat = confusion_matrix(y_rem, y_pred_list)\n",
        "fig, ax = plt.subplots(figsize=(10,10))\n",
        "sns.heatmap(conf_mat, annot=True, fmt='d')\n",
        "plt.ylabel('Actual')\n",
        "plt.xlabel('Predicted')\n",
        "plt.show()"
      ],
      "metadata": {
        "colab": {
          "base_uri": "https://localhost:8080/",
          "height": 606
        },
        "id": "FlJPRSBVaNpQ",
        "outputId": "3b86f765-ca23-49d9-db2f-f1b1a1590a77"
      },
      "execution_count": null,
      "outputs": [
        {
          "output_type": "display_data",
          "data": {
            "text/plain": [
              "<Figure size 720x720 with 2 Axes>"
            ],
            "image/png": "[encoded data removed]"
          },
          "metadata": {
            "needs_background": "light"
          }
        }
      ]
    },
    {
      "cell_type": "code",
      "source": [
        "print(classification_report(y_rem, y_pred_list))"
      ],
      "metadata": {
        "colab": {
          "base_uri": "https://localhost:8080/"
        },
        "id": "LcKtADWnaWyM",
        "outputId": "8686c801-2a80-473b-f3dc-f9293ab9a5f6"
      },
      "execution_count": null,
      "outputs": [
        {
          "output_type": "stream",
          "name": "stdout",
          "text": [
            "              precision    recall  f1-score   support\n",
            "\n",
            "           0       0.35      0.92      0.51        24\n",
            "           1       1.00      0.23      0.38        43\n",
            "           2       0.00      0.00      0.00         9\n",
            "\n",
            "    accuracy                           0.42        76\n",
            "   macro avg       0.45      0.38      0.30        76\n",
            "weighted avg       0.68      0.42      0.38        76\n",
            "\n"
          ]
        }
      ]
    },
    {
      "cell_type": "code",
      "source": [
        "dropout=0.1\n",
        "num_layers=2\n",
        "\n",
        "class LSTM1(nn.Module):\n",
        "  def __init__(self, vocabulary_size, embedding_size, hidden_dim,\n",
        "               output_dim, dropout, num_layers):\n",
        "    super().__init__()\n",
        "\n",
        "    self.output_size = output_dim\n",
        "    self.hidden_dim = hidden_dim\n",
        "    self.num_layers=num_layers\n",
        "\n",
        "    self.embedding = nn.Embedding(vocabulary_size, embedding_size)\n",
        "\n",
        "    self.lstm = nn.LSTM(embedding_size, hidden_dim,bidirectional=True, num_layers=self.num_layers,dropout=dropout, batch_first=True)\n",
        "    self.fc1 = nn.Linear(hidden_dim*2, hidden_dim)\n",
        "    self.fc2=nn.Linear(hidden_dim,output_dim)\n",
        "    self.dropout = nn.Dropout(dropout)\n",
        "    self.sig = nn.Softmax()\n",
        "\n",
        "  def forward(self, x):\n",
        "\n",
        "    x = self.embedding(x)\n",
        "\n",
        "    x = x.float()\n",
        "\n",
        "    lstm_out, hidden = self.lstm(x)\n",
        "    lstm_out = lstm_out[:, -1, :]\n",
        "\n",
        "    out = self.dropout(lstm_out)\n",
        "    out = self.fc1(out)\n",
        "    out = self.dropout(out)\n",
        "    out = self.fc2(out)\n",
        "    sig_out = self.sig(out)\n",
        "    return sig_out"
      ],
      "metadata": {
        "id": "Ti-y68xLbHLH"
      },
      "execution_count": null,
      "outputs": []
    },
    {
      "cell_type": "code",
      "source": [
        "model2=LSTM1(max_features, embedding_dim, hidden_dim,\n",
        "               output_dim, dropout,num_layers)"
      ],
      "metadata": {
        "id": "gsGGGxj4bNA2"
      },
      "execution_count": null,
      "outputs": []
    },
    {
      "cell_type": "code",
      "source": [
        "lr=0.001\n",
        "criterion = nn.CrossEntropyLoss(weight=class_weights.to(device))\n",
        "optimizer = torch.optim.Adam(model2.parameters(), lr=lr)"
      ],
      "metadata": {
        "id": "tpGpOlmcbQS9"
      },
      "execution_count": null,
      "outputs": []
    },
    {
      "cell_type": "code",
      "source": [
        "print(model2)"
      ],
      "metadata": {
        "colab": {
          "base_uri": "https://localhost:8080/"
        },
        "id": "UbFcyxhAbSi2",
        "outputId": "5aa65dab-55a9-4125-addd-43b891f78e3d"
      },
      "execution_count": null,
      "outputs": [
        {
          "output_type": "stream",
          "name": "stdout",
          "text": [
            "LSTM1(\n",
            "  (embedding): Embedding(2224, 100)\n",
            "  (lstm): LSTM(100, 100, num_layers=2, batch_first=True, dropout=0.1, bidirectional=True)\n",
            "  (fc1): Linear(in_features=200, out_features=100, bias=True)\n",
            "  (fc2): Linear(in_features=100, out_features=3, bias=True)\n",
            "  (dropout): Dropout(p=0.1, inplace=False)\n",
            "  (sig): Softmax(dim=None)\n",
            ")\n"
          ]
        }
      ]
    },
    {
      "cell_type": "code",
      "source": [
        "history2 = {\"loss\":[], \"val_loss\":[], \"acc\":[], \"val_accuracy\":[]}"
      ],
      "metadata": {
        "id": "wo2WxFQSbUzr"
      },
      "execution_count": null,
      "outputs": []
    },
    {
      "cell_type": "code",
      "source": [
        "print(\"Begin training.\")\n",
        "epochs=15\n",
        "if(train_on_gpu):\n",
        "    model2.cuda()\n",
        "for e in range(epochs):\n",
        "    \n",
        "    # TRAINING\n",
        "    train_epoch_loss = 0\n",
        "    train_epoch_acc = 0\n",
        "    model2.train()\n",
        "\n",
        "    for X_train_batch, y_train_batch in train_loader:\n",
        "        X_train_batch, y_train_batch = X_train_batch.to(device), y_train_batch.to(device)\n",
        "        optimizer.zero_grad()\n",
        "        \n",
        "        y_train_pred = model2(X_train_batch)\n",
        "        \n",
        "        train_loss = criterion(y_train_pred, y_train_batch)\n",
        "        train_acc = multi_acc(y_train_pred, y_train_batch)\n",
        "        \n",
        "        train_loss.backward()\n",
        "        optimizer.step()\n",
        "        \n",
        "        train_epoch_loss += train_loss.item()\n",
        "        train_epoch_acc += train_acc.item()\n",
        "        \n",
        "        \n",
        "    # VALIDATION    \n",
        "    with torch.no_grad():\n",
        "        \n",
        "        val_epoch_loss = 0\n",
        "        val_epoch_acc = 0\n",
        "        \n",
        "        model2.eval()\n",
        "        for X_val_batch, y_val_batch in valid_loader:\n",
        "            X_val_batch, y_val_batch = X_val_batch.to(device), y_val_batch.to(device)\n",
        "            \n",
        "            y_val_pred = model2(X_val_batch)\n",
        "                        \n",
        "            val_loss = criterion(y_val_pred, y_val_batch)\n",
        "            val_acc = multi_acc(y_val_pred, y_val_batch)\n",
        "            \n",
        "            val_epoch_loss += val_loss.item()\n",
        "            val_epoch_acc += val_acc.item()\n",
        "    history2['loss'].append(train_epoch_loss/len(train_loader))\n",
        "    history2['val_loss'].append(val_epoch_loss/len(valid_loader))\n",
        "    history2['acc'].append(train_epoch_acc/len(train_loader))\n",
        "    history2['val_accuracy'].append(val_epoch_acc/len(valid_loader))\n",
        "    print(f'Epoch {e+0:03}: | Train Loss: {train_epoch_loss/len(train_loader):.5f} | Val Loss: {val_epoch_loss/len(valid_loader):.5f} | Train Acc: {train_epoch_acc/len(train_loader):.3f}| Val Acc: {val_epoch_acc/len(valid_loader):.3f}')"
      ],
      "metadata": {
        "colab": {
          "base_uri": "https://localhost:8080/"
        },
        "id": "9eHmZ29-baee",
        "outputId": "c6f57a77-afc1-47e3-a85c-0da87ceb0757"
      },
      "execution_count": null,
      "outputs": [
        {
          "output_type": "stream",
          "name": "stdout",
          "text": [
            "Begin training.\n"
          ]
        },
        {
          "output_type": "stream",
          "name": "stderr",
          "text": [
            "<ipython-input-95-e64f8d432b0f>:34: UserWarning: Implicit dimension choice for softmax has been deprecated. Change the call to include dim=X as an argument.\n",
            "  sig_out = self.sig(out)\n"
          ]
        },
        {
          "output_type": "stream",
          "name": "stdout",
          "text": [
            "Epoch 000: | Train Loss: 1.05783 | Val Loss: 1.15568 | Train Acc: 40.625| Val Acc: 11.842\n",
            "Epoch 001: | Train Loss: 0.86416 | Val Loss: 1.41691 | Train Acc: 43.000| Val Acc: 11.842\n",
            "Epoch 002: | Train Loss: 0.82574 | Val Loss: 1.43274 | Train Acc: 43.875| Val Acc: 11.842\n",
            "Epoch 003: | Train Loss: 0.95980 | Val Loss: 1.43298 | Train Acc: 29.625| Val Acc: 11.842\n",
            "Epoch 004: | Train Loss: 0.84179 | Val Loss: 1.43300 | Train Acc: 41.500| Val Acc: 11.842\n",
            "Epoch 005: | Train Loss: 0.84394 | Val Loss: 1.43301 | Train Acc: 41.125| Val Acc: 11.842\n",
            "Epoch 006: | Train Loss: 0.97712 | Val Loss: 1.43301 | Train Acc: 28.500| Val Acc: 11.842\n",
            "Epoch 007: | Train Loss: 0.95119 | Val Loss: 1.43301 | Train Acc: 31.250| Val Acc: 11.842\n",
            "Epoch 008: | Train Loss: 0.81763 | Val Loss: 1.43301 | Train Acc: 43.875| Val Acc: 11.842\n",
            "Epoch 009: | Train Loss: 0.96385 | Val Loss: 1.43301 | Train Acc: 28.125| Val Acc: 11.842\n",
            "Epoch 010: | Train Loss: 0.94384 | Val Loss: 1.43301 | Train Acc: 30.375| Val Acc: 11.842\n",
            "Epoch 011: | Train Loss: 0.95949 | Val Loss: 1.43300 | Train Acc: 29.625| Val Acc: 11.842\n",
            "Epoch 012: | Train Loss: 0.98061 | Val Loss: 1.43299 | Train Acc: 26.500| Val Acc: 11.842\n",
            "Epoch 013: | Train Loss: 0.97303 | Val Loss: 1.43296 | Train Acc: 28.125| Val Acc: 11.842\n",
            "Epoch 014: | Train Loss: 0.98327 | Val Loss: 1.41560 | Train Acc: 28.500| Val Acc: 14.474\n"
          ]
        }
      ]
    }
  ]
}